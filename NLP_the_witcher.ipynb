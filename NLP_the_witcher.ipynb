{
  "nbformat": 4,
  "nbformat_minor": 0,
  "metadata": {
    "kernelspec": {
      "name": "python3",
      "display_name": "Python 3"
    },
    "colab": {
      "name": "Untitled1.ipynb",
      "provenance": []
    },
    "accelerator": "GPU"
  },
  "cells": [
    {
      "cell_type": "code",
      "metadata": {
        "id": "GVfWbjkNhji2"
      },
      "source": [
        "import tensorflow as tf\n",
        "from tensorflow import keras \n",
        "from tensorflow.keras.preprocessing.text import Tokenizer"
      ],
      "execution_count": 26,
      "outputs": []
    },
    {
      "cell_type": "code",
      "metadata": {
        "id": "y0rQussYhraK",
        "outputId": "f3504f25-55c4-41bc-8bdc-d83c9eb825c1",
        "colab": {
          "base_uri": "https://localhost:8080/",
          "height": 34
        }
      },
      "source": [
        "from google.colab import drive\n",
        "drive.mount('/content/drive')"
      ],
      "execution_count": 2,
      "outputs": [
        {
          "output_type": "stream",
          "text": [
            "Mounted at /content/drive\n"
          ],
          "name": "stdout"
        }
      ]
    },
    {
      "cell_type": "code",
      "metadata": {
        "id": "dXctciuei228",
        "outputId": "2f0bab38-2736-4a60-de6f-5cfec376bb81",
        "colab": {
          "base_uri": "https://localhost:8080/",
          "height": 241
        }
      },
      "source": [
        "!pip install ebooklib\n"
      ],
      "execution_count": 3,
      "outputs": [
        {
          "output_type": "stream",
          "text": [
            "Collecting ebooklib\n",
            "\u001b[?25l  Downloading https://files.pythonhosted.org/packages/00/38/7d6ab2e569a9165249619d73b7bc6be0e713a899a3bc2513814b6598a84c/EbookLib-0.17.1.tar.gz (111kB)\n",
            "\r\u001b[K     |███                             | 10kB 16.4MB/s eta 0:00:01\r\u001b[K     |█████▉                          | 20kB 4.7MB/s eta 0:00:01\r\u001b[K     |████████▉                       | 30kB 6.1MB/s eta 0:00:01\r\u001b[K     |███████████▊                    | 40kB 6.2MB/s eta 0:00:01\r\u001b[K     |██████████████▊                 | 51kB 5.4MB/s eta 0:00:01\r\u001b[K     |█████████████████▋              | 61kB 5.9MB/s eta 0:00:01\r\u001b[K     |████████████████████▋           | 71kB 6.4MB/s eta 0:00:01\r\u001b[K     |███████████████████████▌        | 81kB 6.8MB/s eta 0:00:01\r\u001b[K     |██████████████████████████▍     | 92kB 6.8MB/s eta 0:00:01\r\u001b[K     |█████████████████████████████▍  | 102kB 7.1MB/s eta 0:00:01\r\u001b[K     |████████████████████████████████| 112kB 7.1MB/s \n",
            "\u001b[?25hRequirement already satisfied: lxml in /usr/local/lib/python3.6/dist-packages (from ebooklib) (4.2.6)\n",
            "Requirement already satisfied: six in /usr/local/lib/python3.6/dist-packages (from ebooklib) (1.15.0)\n",
            "Building wheels for collected packages: ebooklib\n",
            "  Building wheel for ebooklib (setup.py) ... \u001b[?25l\u001b[?25hdone\n",
            "  Created wheel for ebooklib: filename=EbookLib-0.17.1-cp36-none-any.whl size=38163 sha256=17e2454675b445c1383ac8eff339dbc179a7fb60bf60e1c47e2c0545cfda3cfc\n",
            "  Stored in directory: /root/.cache/pip/wheels/84/11/01/951369cbbf8f96878786a1f4da68bd7ac19a5d945b38e03d54\n",
            "Successfully built ebooklib\n",
            "Installing collected packages: ebooklib\n",
            "Successfully installed ebooklib-0.17.1\n"
          ],
          "name": "stdout"
        }
      ]
    },
    {
      "cell_type": "code",
      "metadata": {
        "id": "G5ZUMpHWhji8"
      },
      "source": [
        "from ebooklib import epub \n",
        "import ebooklib"
      ],
      "execution_count": 4,
      "outputs": []
    },
    {
      "cell_type": "code",
      "metadata": {
        "id": "9hDwLcqbhjjA"
      },
      "source": [
        "from bs4 import BeautifulSoup"
      ],
      "execution_count": 5,
      "outputs": []
    },
    {
      "cell_type": "code",
      "metadata": {
        "id": "heyaUWTFhjjE"
      },
      "source": [
        "def epub2html(epub_path):    \n",
        "    book = epub.read_epub(epub_path)\n",
        "    chapters = []\n",
        "    #time both\n",
        "    for items in book.get_items():\n",
        "        if items.get_type() == ebooklib.ITEM_DOCUMENT:\n",
        "            chapters.append(items.get_content())\n",
        "    return chapters"
      ],
      "execution_count": 6,
      "outputs": []
    },
    {
      "cell_type": "code",
      "metadata": {
        "id": "sWmB2JpGhjjI"
      },
      "source": [
        "def extractquote(chap):\n",
        "    output = ''\n",
        "    soup = BeautifulSoup(chap, 'html.parser')\n",
        "    text = soup.find_all('em')\n",
        "    for i in text:\n",
        "        output+= '{}'.format(i.get_text())\n",
        "    return output"
      ],
      "execution_count": 7,
      "outputs": []
    },
    {
      "cell_type": "code",
      "metadata": {
        "id": "VTssDISGhjjN"
      },
      "source": [
        "path1 = '/home/olamide/Downloads/ok.epub'\n",
        "path2 = '/home/olamide/Downloads/ok2.epub'\n",
        "path ='/content/drive/My Drive/ok1.epub'"
      ],
      "execution_count": 8,
      "outputs": []
    },
    {
      "cell_type": "code",
      "metadata": {
        "id": "gkG4id0KhjjR"
      },
      "source": [
        "chapters = epub2html(path)\n",
        "quotes = []"
      ],
      "execution_count": 27,
      "outputs": []
    },
    {
      "cell_type": "markdown",
      "metadata": {
        "id": "4azMH8I7hjjV"
      },
      "source": [
        "dir(BeautifulSoup(text, 'html.parser'))"
      ]
    },
    {
      "cell_type": "code",
      "metadata": {
        "id": "Xi5gFlyahjjW"
      },
      "source": [
        "for text in chapters:\n",
        "    t = extractquote(text)\n",
        "    quotes.append(t)"
      ],
      "execution_count": 28,
      "outputs": []
    },
    {
      "cell_type": "code",
      "metadata": {
        "id": "Dyumwi-8hjjZ"
      },
      "source": [
        "for i in quotes:\n",
        "    if len(i)<2:\n",
        "        quotes.remove(i)"
      ],
      "execution_count": 29,
      "outputs": []
    },
    {
      "cell_type": "code",
      "metadata": {
        "id": "EV1Xx8h8hjjd",
        "outputId": "57c34274-8ceb-4376-f126-d145403d7ef7",
        "colab": {
          "base_uri": "https://localhost:8080/",
          "height": 258
        }
      },
      "source": [
        "quotes"
      ],
      "execution_count": 30,
      "outputs": [
        {
          "output_type": "execute_result",
          "data": {
            "text/plain": [
              "['PolitykaSFXBlood of Elves',\n",
              " 'The Last WishBlood of Elves',\n",
              " 'Verily I say unto you, the era of the sword and axe is nigh, the era of the wolf’s blizzard. The Time of the White Chill and\\n            the White Light is nigh, the Time of Madness and the Time of Contempt: Tedd Deireádh, the Time of End. The world will die\\n            amidst frost and be reborn with the new sun. It will be reborn of the Elder Blood, of Hen Ichaer, of the seed that has been\\n            sown. A seed which will not sprout but will burst into flame.Ess’tuath esse! Thus it shall be! Watch for the signs! What signs these shall be, I say unto you: first the earth will flow\\n            with the blood of Aen Seidhe, the Blood of Elves…Ithlinne Aegli aep Aevenien’s prophecy',\n",
              " 'Fear.Fear.Hold on!Hold on!Fear.Fear!Help! Why doesn’t anyone help me? Alone, weak, helpless – I can’t move, can’t force a sound from my constricted throat. Why\\n            does no one come to help me?I’m terrified!I can hear music,Amidst the rustling of the trees… there’s music. Lute music. And voices. The Princess of Cintra… A child of destiny… A child\\n            of Elder Blood, the blood of elves. Geralt of Rivia, the White Wolf, and his destiny. No, no, that’s a legend. A poet’s invention.\\n            The princess is dead. She was killed in the town streets while trying to escapeHold on!Holdme,Well,no wonder. After all, he did live with her for a year in Vengerberg and before he left her, she had instilled a number of\\n            strange things into himNo human can have a face like that,I’m frightened,I’m very frightened. When Geralt found me, when he took me with him, I thought the fear wouldn’t come back. I thought it had\\n            passed… And now, instead of being at home, I’m in this terrible, dark, ruined old castle full of rats and dreadful echoes…\\n            I’m standing in front of a red wall of fire again. I see sinister black figures, I see dreadful, menacing, glistening eyes\\n            staring at me—Verily, there is nothing so hide-ous as the monsters, so contrary to nature, known as witchers for they are the offspring\\n            of foul sorcery and devilry. They are rogues without virtue, conscience or scruple, true diabolic creations, fit only for\\n            killing. There is no place amidst honest men for such as they.And Kaer Morhen, where these infamous beings nestle, where they perform their foul practices, must be wiped from the surface\\n            of this earth, and all trace of it strewn with salt and saltpetre.Monstrum,Description of the WitcherIntolerance and superstition has always been the domain of the more stupid amongst the common folk and, I conjecture, will\\n            never be uprooted, for they are as eternal as stupidity itself. There, where mountains tower today, one day there will be\\n            seas; there where today seas surge, will one day be deserts. But stupidity will remain stupidity.Meditations on life, Happiness and Prosperity',\n",
              " 'I can understand that,A child trained to be a witcher, a girl, at that, who has not undergone the mutations, should not be told such things. A child\\n            like that should not hear about the massacre. A child like that should not be terrified by the prospect that they too may\\n            one day hear words describing it like those which were screamed by the fanatics who marched on Kaer Morhen long ago. Mutant.\\n            Monster. Freak. Damned by the gods, a creature contrary to nature. No, I do not blame the witchers for not telling you about\\n            it, little Ciri. And I shan’t tell you either. I have even more reason to be silent. Because I am a wizard, and without the\\n            aid of wizards those fanatics would never have conquered the castle. And that hide-ous lampoon, that widely distributedwhich stirred the fanatics up and drove them to such wickedness was also, apparently, some wizard’s anonymous work. But I,\\n            little Ciri, do not recognise collective responsibility, I do not feel the need to expiate the events which took place half\\n            a century before my birth. And the skeletons which are meant to serve as an eternal reminder will ultimately rot away completely,\\n            disintegrate into dust and be forgotten, will disappear with the wind which constantly whips the mountainsideHa,So it is truth, not a legend. She is the one. I guessed correctlyIn the tower,All right, Vesemir. Let it be the tower for today, if appearances matter so much to you. I can sleep in the tower in the best\\n            of all the beds in Kaer Morhen. Although I would prefer to sleep with Geralt in the worst.I’ve no control over myself,I’m behaving like a stupid adolescent. Or even worse – like an old maid deprived of affection. I can’t even think logically.Of course it wasn’t Geralt. Don’t get excited, little one. Don’t get excited, just think of his expression in the stable.\\n            You’ve seen expressions like that before. You’ve seen them, so don’t kid yourself. The foolish, contrite, embarrassed expressions\\n            of men who want to forget, who regret, who don’t want to remember what happened, don’t want to go back to what has been. By\\n            all the gods, little one, don’t fool yourself it’s different this time. It’s never different. And you know it. Because, after\\n            all, you’ve had a fair amount of experience.No,no. Don’t be silly. Don’t think about it. Think about…About Ciri. Is she… YesThe ash-blonde girl who, here in Kaer Morhen, they want to turn into a witcher. A real witcher. A mutant. A killing machine,\\n            like themselves.It’s clear,It’s obvious. They want to mutate the child, subject her to the Trial of Grasses and Changes, but they don’t know how to do\\n            itWho knows,perhaps they have tried?Have they given children concoctions prepared without the use of magic?And now they want to mutate the girl but can’t. And that might mean… They may ask me to help. And then I’ll see something\\n            no living wizard has seen, I’ll learn something no living wizard has learned. Their famous Grasses and herbs, the secret virus\\n            cultures, the renowned, mysterious recipes…And I will be the one to give the child a number of elixirs, who will watch the Changes of mutation, who will watch, with\\n            my own eyes…Watch the ashen-haired child dieOh, no.Never. Not at such a price.Besides,I’ve probably got excited too soon again. That’s probably not what this is about. We talked over supper, gossiped about this\\n            and that. I tried to guide the conversation to the Child Surprise several times to no avail. They changed the subject at once.Of course,They’re feeding her those legendary cave saprophytes – a mountain plant unknown to science – giving her the famous infusions\\n            of their mysterious herbs to drink. The girl is developing quickly, is acquiring a witcher’s infernal fitness. Naturally,\\n            without the mutation, without the risk, without the hormonal upheaval. But the magician must not know this. It is to be kept\\n            a secret from the magician. They aren’t going to tell me anything; they aren’t going to show me anything.I saw how that girl ran. I saw how she danced on the beam with her sword, agile and swift, full of a dancer’s near-feline\\n            grace, moving like an acrobat. I must,I absolutely must see her body, see how she’s developing under the influence of whatever it is they’re feeding her. And what\\n            if I managed to steal samples of these “mushrooms” and “salads” and take them away? Well, well…And trust? I don’t give a fig for your trust, witchers. There’s cancer out there in the world, smallpox, tetanus and leukaemia,\\n            there are allergies, there’s cot death. And you’re keeping your “mushrooms”, which could perhaps be distilled and turned into\\n            life-saving medicines, hidden away from the world. You’re keeping them a secret even from me, and others to whom you declare\\n            your friendship, respect and trust. Even I’m forbidden to see not just the Laboratorium, but even the bloody mushrooms!So why did you bring me here? Me, a magician?Magic!Ha,witchers, I’ve got you! Ciri scared you just as she did me. She “withdrew” into a daydream, started to prophesy, gave out\\n            an aura which, after all, you can sense almost as well as I can. She automatically reached for something psychokinetically,\\n            or bent a pewter spoon with her will as she stared at it during lunch. She answered questions you only thought, and maybe\\n            even some which you were afraid to ask yourselves. And you felt fear. You realised that your Surprise is more surprising than\\n            you had imagined.You realised that you have the Source in Kaer Morhen.And that, you can’t manage without a magician.And you don’t have a single friendly magician, not a single one you could trust. Apart from me and…And Yennefer.Does that mean…?Who knows. Maybe. But if it’s as I think then why…?Why…?Aha,so it’s your work, master of the sword. Predictable enough, Ciri’s short tunic does look as if it has been cut out with a\\n            knife and sewn together with an arrow-head.But then,in his day the world was a better place. Duplicity was a character flaw to be ashamed of. Sincerity did not bring shame.On the third day all the children died save one, a male barely ten. Hitherto agitated by a sudden madness, he fell all at\\n            once into deep stupor. His eyes took on a glassy gaze; incessantly with his hands did he clutch at clothing, or brandish them\\n            in the air as if desirous of catching a quill. His breathing grew loud and hoarse; sweat cold, clammy and malodorous appeared\\n            on his skin. Then was he once more given elixir through the vein and the seizure it did return. This time a nose-bleed did\\n            ensue, coughing turned to vomiting, after which the male weakened entirely and became inert.For two days more did symptoms not subside. The child’s skin, hitherto drenched in sweat, grew dry and hot, the pulse ceased\\n            to be full and firm – albeit remaining of average strength, slow rather than fast. No more did he wake, nor did he scream.Finally, came the seventh day. The male awoke and opened his eyes, and his eyes were as those of a viper…The Trial of Grasses and other secret Witcher practices, seen with my own eyes,',\n",
              " 'isForce of suggestion,It is only force of suggestion. Seagull!Triiiss! Triiss!Ciri? Where are you?Triiiss!Triss?Ciri?Forget about him! Don’t torture him! Forget! Forget, Triss!Forget!Triss! Triss! Trisss!That’s not true,Nothing’s all rightUpriver we saw their towns, as delicate as if they were woven from the morning mist out of which they loomed. It seemed as\\n            if they would disappear a moment later, blown away on the wind which rippled the surface of the water. There were little palaces,\\n            white as nenuphar flowers; there were little towers looking as though they were plaited out of ivy; there were bridges as\\n            airy as weeping willows. And there were other things for which we could find no word or name. Yet we already had names for\\n            everything which our eyes beheld in this new, reborn world. Suddenly, in the far recesses of our memories, we found the words\\n            for dragons and griffins, mermaids and nymphs, sylphs and dryads once more. For the white unicorns which drank from the river\\n            at dusk, inclining their slender necks towards the water. We named everything. And everything seemed to be close to our hearts,\\n            familiar to us, ours.Apart from them. They, although so resembling us, were alien. So very alien that, for a long time, we could find no word for\\n            their strangeness.Elves and HumansA good elf is a dead elf.',\n",
              " 'younotyouPah-pahPah-pah-pahPah-pah!Exactly as if I were a child,And I’m almost thirteen and have a swift chestnut beneath me and a sharp sword across my back. And I’m not afraid of anything!And it’s spring!Pah-pah!Further, dear horse, don’t feel the bit, further, at the gallop, at the gallop, sharp, sharp! Spring!Ha,the safety of the entire convoy depends on me now. They’re all waiting impatiently for me to return and report: the way is\\n            clear and passable, I didn’t see anyone – there are no traces of wheels or hooves. I’ll report it, and thin Master Wenck with\\n            his cold, blue eyes will nod his head gravely, Yarpen Zigrin will bare his yellow, horse teeth, Paulie Dahlberg will shout:\\n            “Well done, little one!’, and Geralt will smile faintly. He’ll smile, although he very rarely smiles recently.Traces? What traces can there be here? There’s no one here. There’s the forest. There are birds screeching amidst fresh, green\\n            leaves. A red fox runs leisurely across the path… And everything smells of spring.What are they afraid of?The Scoia’tael? But what was there to be afraid of? I’m not frightened of elves. I haven’t done anything to them.Elves who kill humans and die in battles themselves. Geralt says you have to remain neutral… And Yarpen says you have to behave\\n            in such a way that you don’t have to ask for forgiveness…The Squirrels kill humans. And Nilfgaard pays them for it. Uses them. Incites them. Nilfgaard.A witcher looking on indifferently? No! A witcher has to defend people. From the leshy, the vampire, the werewolf. And not\\n            only from them. He has to defend people from every evil. And in Transriver I saw what evil is.A witcher has to defend and save. To defend men so that they aren’t hung on trees by their hands, aren’t impaled and left\\n            to die. To defend fair girls from being spread-eagled between stakes rammed into the ground. Defend children so they aren’t\\n            slaughtered and thrown into a well. Even a cat burned alive in a torched barn deserves to be defended. That’s why I’m going\\n            to become a witcher, that’s why I’ve got a sword, to defend people like those in Sodden and Transriver – because they don’t\\n            have swords, don’t know the steps, half-turns, dodges and pirouettes. No one has taught them how to fight, they are defenceless\\n            and helpless in face of the werewolf and the Nilfgaardian marauder. They’re teaching me to fight so that I can defend the\\n            helpless. And that’s what I’m going to do. Never will I be neutral. Never will I be indifferent.Never!Just let the horse not neigh,They roam the land, importunate and insolent, nominating themselves the stalkers of evil, vanquishers of werewolves and exterminators\\n            of spectres, extorting payment from the gullible and, on receipt of their ignoble earnings, moving on to dispense the same\\n            deceit in the near vicinity. The easiest access they find at cottages of honest, simple and unwitting peasants who readily\\n            ascribe all misfortune and ill events to spells, unnatural creatures and monsters, the doings of windsprites or evil spirits.\\n            Instead of praying to the gods, instead of bearing rich offerings to the temple, such a simpleton is ready to give his last\\n            penny to the base witcher, believing the witcher, the godless changeling, will turn around his fate and save him from misfortune.Monstrum,Description of the WitcherI have nothing against witchers. Let them hunt vampires. As long as they pay taxes.If you thirst for justice, hire a witcher.',\n",
              " '…I sleep in a large hall called a Dormitorium and my bed is terribly big, I tell you. I’m with the Intermediary Girls. There\\n            are twelve of us but I’m most friendly with Eurneid, Katye and Iola the Second. Whereas today I Ate Broth and the worst is\\n            that sometimes we have to Fast and get up very early at Dawn. Earlier than in Kaer Morhen. I will write the rest tomorrow\\n            for we shall presently be having Prayers. No one ever prayed in Kaer Morhen, I wonder why we have to here. No doubt because\\n            this is a Temple.Geralt. Mother Nenneke has read and said I must not write Silly Things and write clearly without mistakes. And about what\\n            I’m studying and that I feel well and healthy. I feel well and am healthy if unfortunately Hungry, but Soone be Dinner. And\\n            Mother Nenneke also said write that prayer has never harmed anybody yet, neither me nor, certainly, you.Geralt, I have some free time again, I will write therefore that I am studying. To read and write correct Runes. History.\\n            Nature. Poetry and Prose. To express myself well in the Common Speech and in the Elder Speech. I am best at the Elder Speech,\\n            I can also write Elder Runes. I will write something for you and you will see for yourself. Elaine blath, Feainnewedd. That\\n            meant: Beautiful flower, child of the Sun. You see for yourself that I can. And also—Now I can write again for I have found a new quill for the old one broke. Mother Nenneke read this and praised me that it\\n            was correct. That I am obedient, she told me to write, and that you should not worry. Don’t worry, Geralt.Again I have some time so I will write what happened. When we were feeding the turkey hens, I, Iola and Katye, One Enormous\\n            Turkey attacked us, a red neck it had and was Terrible Horrible. First it attacked Iola and then it wanted to attack me but\\n            I was not afraid because it was smaller and slower than the Pendulum anyway. I dodged and did a pirouette and walloped it\\n            twice with a switch until it Made Off. Mother Nenneke does not allow me to carry My Sword here, a pity, for I would have shown\\n            that Turkey what I learned in Kaer Morhen. I already know that in the Elder Runes it would be written Caer a’Muirehen and\\n            that it means Keep of the Elder Sea. So no doubt that is why there are Shells and Snails there as well as Fish imprinted on\\n            the stones. And Cintra is correctly written Xin’trea. Whereas my name comes from Zireael for that means Swallow and that means\\n            that……that means I have an elven name. But I am not, after all, an elf, Geralt, there is also talk about the Squirrels here. Sometimes\\n            even the Soldiers come and ask questions and say that we must not treat wounded elves. I have not squealed a word to anyone\\n            about what happened in spring, don’t worry. And I also remember to practise, don’t think otherwise. I go to the park and train\\n            when I have time. But not always, for I also have to work in the kitchen or in the orchard like all the girls. And we also\\n            have a terrible amount of studying to do. But never mind, I will study. After all, you too studied in the Temple, Mother Nenneke\\n            told me. And she also told me that just any idiot can brandish a sword but a witcher-girl must be wise.Geralt, you promised to come. Come.Your CiriPS Come, come.PS II. Mother Nenneke told me to end with Praise be to Great Melitele, may her blessing and favour always go with you. And\\n            may nothing happen to you.CiriI’d like to go to Ellander,But it’s dangerous. I might lead them to— These letters have got to end. Nenneke makes use of temple mail but still… Damn\\n            it, it’s too risky.Dear friend…Dear friend, your unexpected letter – which I received not quite three years after we last saw each other – has given me much\\n            joy. My joy is all the greater as various rumours have been circulating about your sudden and violent death. It is a good\\n            thing that you have decided to disclaim them by writing to me; it is a good thing, too, that you are doing so so soon. From\\n            your letter it appears that you have lived a peaceful, wonderfully boring life, devoid of all sensation. These days such a\\n            life is a real privilege, dear friend, and I am happy that you have managed to achieve it.I was touched by the sudden concern which you deigned to show as to my health, dear friend. I hasten with the news that, yes,\\n            I now feel well; the period of indisposition is behind me, I have dealt with the difficulties, the description of which I\\n            shall not bore you with.It worries and troubles me very much that the unexpected present you received from Fate brings you worries. Your supposition\\n            that this requires professional help is absolutely correct. Although your description of the difficulty – quite understandably\\n            – is enigmatic, I am sure I know the Source of the problem. And I agree with your opinion that the help of yet another magician\\n            is absolutely necessary. I feel honoured to be the second to whom you turn. What have I done to deserve to be so high on your\\n            list?Rest assured, my dear friend; and if you had the intention of supplicating the help of additional magicians, abandon it because\\n            there is no need. I leave without delay, and go to the place which you indicated in an oblique yet, to me, understandable\\n            way. It goes without saying that I leave in absolute secrecy and with great caution. I will surmise the nature of the trouble\\n            on the spot and will do all that is in my power to calm the gushing source. I shall try, in so doing, not to appear any worse\\n            than other ladies to whom you have turned, are turning or usually turn with your supplications. I am, after all, your dear\\n            friend. Your valuable friendship is too important to me to disappoint you, dear friend.Should you, in the next few years, wish to write to me, do not hesitate for a moment. Your letters invariably give me boundless\\n            pleasure.Your friend YenneferHyphydridaeHyphydridaeHyphydridaeAmphipodaHyphydra longicaudaHyphydra marginataPseudohyphydra,MordidaeIchthyovorax bumbleriius stapulaeius stapulaead valoremI agree with that last statement entirely,AmphipodaGeraltia maxiliosa pittiEveretiaEveretia maxiliosa pittihimMurder is always murder, regardless of motive or circumstance. Thus those who murder or who prepare to murder are malefactors\\n            and criminals, regardless of who they may be: kings, princes, marshals or judges. None who contemplates and commits violence\\n            has the right to consider himself better than an ordinary criminal. Because it is in the nature of all violence to lead inevitably\\n            to crime.Meditations on Life, Happiness and Prosperity',\n",
              " 'thisI’ve never seen a live unicorn,Never. And I probably never will.He doesn’t believe him,He doesn’t believe him and is deluding himself. He is making a great mistake.What a strange dream I had,The first dream for many days. The first where I wasn’t afraid. The first which wasn’t about me. I was an… observer. I saw\\n            everything as if from above, from high up… As if I were a bird… A night bird…A dream in which I saw Geralt.And I saw them from above. As if I were a bird. A night bird…Strange dream,Shame I woke up. I’d like to have seen what was going to happen… I’d like to know what they were doing there. Where they were\\n            going…I’ll fall asleep,I’ll go back to my dream. I’ll see what Geralt is doing there, in the night, in the rain, by the canal…If you’re afraid, turn back.That door mustn’t be opened. You know that.I do.But you’re still leading me there.If you’re afraid, turn back. You still have time to turn back. It’s not too late.And you?For me, it is.You have made a mistake. You mistook the stars reflected in the surface of the lake at night for the heavens.Dong,DongOh, you cocksure little student,You treacherous creep, you red-haired hussy, I’m going to find you and pay you back… Just let me get myself out of this.One ear,one ear I have to endure. Then I’ll tell him…If we’ve finished supping, let us go through into the workshop,The Chapter will do as he says, disguising his order as advice,We are all pawns on his chess board. He’s moved up, grown, obscured us with his brightness, subordinated us to him. We’re\\n            pawns in his game. A game the rules of which we do not know.Now you’re going to change tactics,You’re a player, you can hear which way the dice roll on the table. You’re going to change tactics. You’re going to strike\\n            a different noteAen Ithlinnespeath,Aen Hen IchaerMetal, stone, crystal,Are you looking for Yennefer? Why? And what does she have to do with Ithlin’s prophecy? Or with the Elder Blood of the Elves?\\n            What are you brewing, Vilgefortz?I’m sorry,The messenger is waiting for a reply,I understand. I have given orders to prepare chambers for your guests.Nowhere,But I’m listening carefully to you. Because at some stage you’ll finally mention the thing which really interests you.Stone, metal, crystal,Fine,If that’s what you want, fineFine, murderers,If that’s what you want, that’s what you’ll get.No one is born a wizard. We still know too little about genetics and the mechanisms of heredity. We sacrifice too little time\\n            and means on research. Unfortunately, we constantly try to pass on inherited magical abilities in, so to say, a natural way.\\n            Results of these pseudo-experiments can be seen all too often in town gutters and within temple walls. We see too many of\\n            them, and too frequently come across morons and women in a catatonic state, dribbling seers who soil themselves, seeresses,\\n            village oracles and miracle-workers, cretins whose minds are degenerate due to the inherited, uncontrolled Force.These morons and cretins can also have offspring, can pass on abilities and thus degenerate further. Is anyone in a position\\n            to foresee or describe how the last link in such a chain will look?Most of us wizards lose the ability to procreate due to somatic changes and dysfunction of the pituitary gland. Some wizards\\n            – usually women – attune to magic while still maintaining efficiency of the gonads. They can conceive and give birth – and\\n            have the audacity to consider this happiness and a blessing. But I repeat: no one is born a wizard. And no one should be born\\n            one! Conscious of the gravity of what I write, I answer the question posed at the Congress in Cidaris. I answer most emphatically:\\n            each one of us must decide what she wants to be – a wizard or a mother.I demand all apprentices be sterilised. Without exception.The Poisoned Source',\n",
              " 'The History of WarStrategy,The Victorious Deeds of Redania’s Gallant CavalrymenHealing and CuringThe Life and Deeds of Great King Radovidcasus belli—casus belliOur first meeting,I remember. I was in the Grotto with the other girls. Hrosvitha was showing us plants and herbs. Then Iola the First came\\n            in and whispered something in Hrosvitha’s ear. The priestess grimaced with animosity. And Iola the First came up to me with\\n            a strange expression on her faceshe said,Strange, meaningful glances, excitement in their eyes. And whispers. YenneferI knew immediately,that it was her. Because I’d seen her. I’d seen her the night before. In my dream.Her.I didn’t know her name then. She didn’t say anything in my dream. She only looked at me and behind her, in the darkness, I\\n            saw a closed door…I’ll escape tonight,Back to Kaer Morhen. I’ll steal a horse from the stables and that’s the last they’ll see of me. I’ll run away!They’re talking quite openly in front of me, without any restraint,They’re not bothered about me at all. Ignoring me completely. As if I were a child. They’re talking about Geralt in front\\n            of me, in my presence, but they can’t because I… I am…Who?Dialogues on the Nature of Magic,Forces of the ElementsNatural MagicThe Invisible WorldThe Secret of SecretsCodex of Mirthe, Ard Aercane,Dhu Dwimmermorc,The History of the WorldA Treatise on LifeGambolsThe King’s LadiesThe Adversities of LovingTime of the Moon,The Blue PearlThat laughter,that laughter, shared and sincere, really brought us together, her and me. We understood – both she and I – that we can laugh\\n            and talk together about him. About Geralt. Suddenly we became close, although I knew perfectly well that Geralt both brought\\n            us together and separated us, and that that’s how it would always be.Our laughter together brought us closer to each other.As did the events two days later. In the forest, on the hills. She was showing me how to find…She’s going to ask me something in a moment,I can hear her thinking about it. She’s going to ask about something I don’t remember again. Or something I don’t want to\\n            remember. No, it’s senseless. I’m not going to answer. All of that is in the past, and there’s no returning to the past. She\\n            once said so herself.Why all this,Why these questions, these recollections? There’s no returning to the past. There’s no one there for me any more. Not my papa,\\n            nor my mama, nor my grandmother, the one who was Ard Rhena, the Lioness of Cintra. Uncle Crach an Craite, no doubt, is also\\n            dead. I haven’t got anybody any more and am someone else. There’s no returning…I’m not going to answer the next question,Dhu DwimmermorcIn a minute she’s going to ask why I didn’t like her,No, she’s too clever to ask such a question. She’ll dryly draw my attention to my grammar and ask when I started using the\\n            past tense. And I’ll tell her. I’ll be just as dry as she is, I’ll parody her tone of voice, let her know that I, too, can\\n            pretend to be cold, unfeeling and indifferent, ashamed of my feelings and emotions. I’ll tell her everything. I want to, I\\n            have to tell her everything. I want her to know everything before we leave Melitele’s Temple. Before we part to finally meet\\n            the one I miss. The one she misses. The one who no doubt misses us both. I want to tell her that…I’ll tell her. It’s enough for her to ask.',\n",
              " '',\n",
              " 'by Andrzej SapkowskiYou. You will be the first to grow weak, Sorcerer. I will kill you.I will kill you. I’ll kill you. I’ll kill you',\n",
              " '']"
            ]
          },
          "metadata": {
            "tags": []
          },
          "execution_count": 30
        }
      ]
    },
    {
      "cell_type": "code",
      "metadata": {
        "id": "MfJgYpBRhjjh"
      },
      "source": [
        ""
      ],
      "execution_count": 12,
      "outputs": []
    },
    {
      "cell_type": "code",
      "metadata": {
        "id": "9osRj3wqhjjo"
      },
      "source": [
        "data =''\n",
        "for i in quotes:\n",
        "    data+= f' {i} '\n",
        "    "
      ],
      "execution_count": 33,
      "outputs": []
    },
    {
      "cell_type": "code",
      "metadata": {
        "id": "2nUxAXYmhjjs",
        "outputId": "4d267bab-078d-4fc6-c792-3a9db04dabad",
        "colab": {
          "base_uri": "https://localhost:8080/",
          "height": 188
        }
      },
      "source": [
        "data"
      ],
      "execution_count": 34,
      "outputs": [
        {
          "output_type": "execute_result",
          "data": {
            "application/vnd.google.colaboratory.intrinsic+json": {
              "type": "string"
            },
            "text/plain": [
              "' PolitykaSFXBlood of Elves  The Last WishBlood of Elves  Verily I say unto you, the era of the sword and axe is nigh, the era of the wolf’s blizzard. The Time of the White Chill and\\n            the White Light is nigh, the Time of Madness and the Time of Contempt: Tedd Deireádh, the Time of End. The world will die\\n            amidst frost and be reborn with the new sun. It will be reborn of the Elder Blood, of Hen Ichaer, of the seed that has been\\n            sown. A seed which will not sprout but will burst into flame.Ess’tuath esse! Thus it shall be! Watch for the signs! What signs these shall be, I say unto you: first the earth will flow\\n            with the blood of Aen Seidhe, the Blood of Elves…Ithlinne Aegli aep Aevenien’s prophecy  Fear.Fear.Hold on!Hold on!Fear.Fear!Help! Why doesn’t anyone help me? Alone, weak, helpless – I can’t move, can’t force a sound from my constricted throat. Why\\n            does no one come to help me?I’m terrified!I can hear music,Amidst the rustling of the trees… there’s music. Lute music. And voices. The Princess of Cintra… A child of destiny… A child\\n            of Elder Blood, the blood of elves. Geralt of Rivia, the White Wolf, and his destiny. No, no, that’s a legend. A poet’s invention.\\n            The princess is dead. She was killed in the town streets while trying to escapeHold on!Holdme,Well,no wonder. After all, he did live with her for a year in Vengerberg and before he left her, she had instilled a number of\\n            strange things into himNo human can have a face like that,I’m frightened,I’m very frightened. When Geralt found me, when he took me with him, I thought the fear wouldn’t come back. I thought it had\\n            passed… And now, instead of being at home, I’m in this terrible, dark, ruined old castle full of rats and dreadful echoes…\\n            I’m standing in front of a red wall of fire again. I see sinister black figures, I see dreadful, menacing, glistening eyes\\n            staring at me—Verily, there is nothing so hide-ous as the monsters, so contrary to nature, known as witchers for they are the offspring\\n            of foul sorcery and devilry. They are rogues without virtue, conscience or scruple, true diabolic creations, fit only for\\n            killing. There is no place amidst honest men for such as they.And Kaer Morhen, where these infamous beings nestle, where they perform their foul practices, must be wiped from the surface\\n            of this earth, and all trace of it strewn with salt and saltpetre.Monstrum,Description of the WitcherIntolerance and superstition has always been the domain of the more stupid amongst the common folk and, I conjecture, will\\n            never be uprooted, for they are as eternal as stupidity itself. There, where mountains tower today, one day there will be\\n            seas; there where today seas surge, will one day be deserts. But stupidity will remain stupidity.Meditations on life, Happiness and Prosperity  I can understand that,A child trained to be a witcher, a girl, at that, who has not undergone the mutations, should not be told such things. A child\\n            like that should not hear about the massacre. A child like that should not be terrified by the prospect that they too may\\n            one day hear words describing it like those which were screamed by the fanatics who marched on Kaer Morhen long ago. Mutant.\\n            Monster. Freak. Damned by the gods, a creature contrary to nature. No, I do not blame the witchers for not telling you about\\n            it, little Ciri. And I shan’t tell you either. I have even more reason to be silent. Because I am a wizard, and without the\\n            aid of wizards those fanatics would never have conquered the castle. And that hide-ous lampoon, that widely distributedwhich stirred the fanatics up and drove them to such wickedness was also, apparently, some wizard’s anonymous work. But I,\\n            little Ciri, do not recognise collective responsibility, I do not feel the need to expiate the events which took place half\\n            a century before my birth. And the skeletons which are meant to serve as an eternal reminder will ultimately rot away completely,\\n            disintegrate into dust and be forgotten, will disappear with the wind which constantly whips the mountainsideHa,So it is truth, not a legend. She is the one. I guessed correctlyIn the tower,All right, Vesemir. Let it be the tower for today, if appearances matter so much to you. I can sleep in the tower in the best\\n            of all the beds in Kaer Morhen. Although I would prefer to sleep with Geralt in the worst.I’ve no control over myself,I’m behaving like a stupid adolescent. Or even worse – like an old maid deprived of affection. I can’t even think logically.Of course it wasn’t Geralt. Don’t get excited, little one. Don’t get excited, just think of his expression in the stable.\\n            You’ve seen expressions like that before. You’ve seen them, so don’t kid yourself. The foolish, contrite, embarrassed expressions\\n            of men who want to forget, who regret, who don’t want to remember what happened, don’t want to go back to what has been. By\\n            all the gods, little one, don’t fool yourself it’s different this time. It’s never different. And you know it. Because, after\\n            all, you’ve had a fair amount of experience.No,no. Don’t be silly. Don’t think about it. Think about…About Ciri. Is she… YesThe ash-blonde girl who, here in Kaer Morhen, they want to turn into a witcher. A real witcher. A mutant. A killing machine,\\n            like themselves.It’s clear,It’s obvious. They want to mutate the child, subject her to the Trial of Grasses and Changes, but they don’t know how to do\\n            itWho knows,perhaps they have tried?Have they given children concoctions prepared without the use of magic?And now they want to mutate the girl but can’t. And that might mean… They may ask me to help. And then I’ll see something\\n            no living wizard has seen, I’ll learn something no living wizard has learned. Their famous Grasses and herbs, the secret virus\\n            cultures, the renowned, mysterious recipes…And I will be the one to give the child a number of elixirs, who will watch the Changes of mutation, who will watch, with\\n            my own eyes…Watch the ashen-haired child dieOh, no.Never. Not at such a price.Besides,I’ve probably got excited too soon again. That’s probably not what this is about. We talked over supper, gossiped about this\\n            and that. I tried to guide the conversation to the Child Surprise several times to no avail. They changed the subject at once.Of course,They’re feeding her those legendary cave saprophytes – a mountain plant unknown to science – giving her the famous infusions\\n            of their mysterious herbs to drink. The girl is developing quickly, is acquiring a witcher’s infernal fitness. Naturally,\\n            without the mutation, without the risk, without the hormonal upheaval. But the magician must not know this. It is to be kept\\n            a secret from the magician. They aren’t going to tell me anything; they aren’t going to show me anything.I saw how that girl ran. I saw how she danced on the beam with her sword, agile and swift, full of a dancer’s near-feline\\n            grace, moving like an acrobat. I must,I absolutely must see her body, see how she’s developing under the influence of whatever it is they’re feeding her. And what\\n            if I managed to steal samples of these “mushrooms” and “salads” and take them away? Well, well…And trust? I don’t give a fig for your trust, witchers. There’s cancer out there in the world, smallpox, tetanus and leukaemia,\\n            there are allergies, there’s cot death. And you’re keeping your “mushrooms”, which could perhaps be distilled and turned into\\n            life-saving medicines, hidden away from the world. You’re keeping them a secret even from me, and others to whom you declare\\n            your friendship, respect and trust. Even I’m forbidden to see not just the Laboratorium, but even the bloody mushrooms!So why did you bring me here? Me, a magician?Magic!Ha,witchers, I’ve got you! Ciri scared you just as she did me. She “withdrew” into a daydream, started to prophesy, gave out\\n            an aura which, after all, you can sense almost as well as I can. She automatically reached for something psychokinetically,\\n            or bent a pewter spoon with her will as she stared at it during lunch. She answered questions you only thought, and maybe\\n            even some which you were afraid to ask yourselves. And you felt fear. You realised that your Surprise is more surprising than\\n            you had imagined.You realised that you have the Source in Kaer Morhen.And that, you can’t manage without a magician.And you don’t have a single friendly magician, not a single one you could trust. Apart from me and…And Yennefer.Does that mean…?Who knows. Maybe. But if it’s as I think then why…?Why…?Aha,so it’s your work, master of the sword. Predictable enough, Ciri’s short tunic does look as if it has been cut out with a\\n            knife and sewn together with an arrow-head.But then,in his day the world was a better place. Duplicity was a character flaw to be ashamed of. Sincerity did not bring shame.On the third day all the children died save one, a male barely ten. Hitherto agitated by a sudden madness, he fell all at\\n            once into deep stupor. His eyes took on a glassy gaze; incessantly with his hands did he clutch at clothing, or brandish them\\n            in the air as if desirous of catching a quill. His breathing grew loud and hoarse; sweat cold, clammy and malodorous appeared\\n            on his skin. Then was he once more given elixir through the vein and the seizure it did return. This time a nose-bleed did\\n            ensue, coughing turned to vomiting, after which the male weakened entirely and became inert.For two days more did symptoms not subside. The child’s skin, hitherto drenched in sweat, grew dry and hot, the pulse ceased\\n            to be full and firm – albeit remaining of average strength, slow rather than fast. No more did he wake, nor did he scream.Finally, came the seventh day. The male awoke and opened his eyes, and his eyes were as those of a viper…The Trial of Grasses and other secret Witcher practices, seen with my own eyes,  isForce of suggestion,It is only force of suggestion. Seagull!Triiiss! Triiss!Ciri? Where are you?Triiiss!Triss?Ciri?Forget about him! Don’t torture him! Forget! Forget, Triss!Forget!Triss! Triss! Trisss!That’s not true,Nothing’s all rightUpriver we saw their towns, as delicate as if they were woven from the morning mist out of which they loomed. It seemed as\\n            if they would disappear a moment later, blown away on the wind which rippled the surface of the water. There were little palaces,\\n            white as nenuphar flowers; there were little towers looking as though they were plaited out of ivy; there were bridges as\\n            airy as weeping willows. And there were other things for which we could find no word or name. Yet we already had names for\\n            everything which our eyes beheld in this new, reborn world. Suddenly, in the far recesses of our memories, we found the words\\n            for dragons and griffins, mermaids and nymphs, sylphs and dryads once more. For the white unicorns which drank from the river\\n            at dusk, inclining their slender necks towards the water. We named everything. And everything seemed to be close to our hearts,\\n            familiar to us, ours.Apart from them. They, although so resembling us, were alien. So very alien that, for a long time, we could find no word for\\n            their strangeness.Elves and HumansA good elf is a dead elf.  younotyouPah-pahPah-pah-pahPah-pah!Exactly as if I were a child,And I’m almost thirteen and have a swift chestnut beneath me and a sharp sword across my back. And I’m not afraid of anything!And it’s spring!Pah-pah!Further, dear horse, don’t feel the bit, further, at the gallop, at the gallop, sharp, sharp! Spring!Ha,the safety of the entire convoy depends on me now. They’re all waiting impatiently for me to return and report: the way is\\n            clear and passable, I didn’t see anyone – there are no traces of wheels or hooves. I’ll report it, and thin Master Wenck with\\n            his cold, blue eyes will nod his head gravely, Yarpen Zigrin will bare his yellow, horse teeth, Paulie Dahlberg will shout:\\n            “Well done, little one!’, and Geralt will smile faintly. He’ll smile, although he very rarely smiles recently.Traces? What traces can there be here? There’s no one here. There’s the forest. There are birds screeching amidst fresh, green\\n            leaves. A red fox runs leisurely across the path… And everything smells of spring.What are they afraid of?The Scoia’tael? But what was there to be afraid of? I’m not frightened of elves. I haven’t done anything to them.Elves who kill humans and die in battles themselves. Geralt says you have to remain neutral… And Yarpen says you have to behave\\n            in such a way that you don’t have to ask for forgiveness…The Squirrels kill humans. And Nilfgaard pays them for it. Uses them. Incites them. Nilfgaard.A witcher looking on indifferently? No! A witcher has to defend people. From the leshy, the vampire, the werewolf. And not\\n            only from them. He has to defend people from every evil. And in Transriver I saw what evil is.A witcher has to defend and save. To defend men so that they aren’t hung on trees by their hands, aren’t impaled and left\\n            to die. To defend fair girls from being spread-eagled between stakes rammed into the ground. Defend children so they aren’t\\n            slaughtered and thrown into a well. Even a cat burned alive in a torched barn deserves to be defended. That’s why I’m going\\n            to become a witcher, that’s why I’ve got a sword, to defend people like those in Sodden and Transriver – because they don’t\\n            have swords, don’t know the steps, half-turns, dodges and pirouettes. No one has taught them how to fight, they are defenceless\\n            and helpless in face of the werewolf and the Nilfgaardian marauder. They’re teaching me to fight so that I can defend the\\n            helpless. And that’s what I’m going to do. Never will I be neutral. Never will I be indifferent.Never!Just let the horse not neigh,They roam the land, importunate and insolent, nominating themselves the stalkers of evil, vanquishers of werewolves and exterminators\\n            of spectres, extorting payment from the gullible and, on receipt of their ignoble earnings, moving on to dispense the same\\n            deceit in the near vicinity. The easiest access they find at cottages of honest, simple and unwitting peasants who readily\\n            ascribe all misfortune and ill events to spells, unnatural creatures and monsters, the doings of windsprites or evil spirits.\\n            Instead of praying to the gods, instead of bearing rich offerings to the temple, such a simpleton is ready to give his last\\n            penny to the base witcher, believing the witcher, the godless changeling, will turn around his fate and save him from misfortune.Monstrum,Description of the WitcherI have nothing against witchers. Let them hunt vampires. As long as they pay taxes.If you thirst for justice, hire a witcher.  …I sleep in a large hall called a Dormitorium and my bed is terribly big, I tell you. I’m with the Intermediary Girls. There\\n            are twelve of us but I’m most friendly with Eurneid, Katye and Iola the Second. Whereas today I Ate Broth and the worst is\\n            that sometimes we have to Fast and get up very early at Dawn. Earlier than in Kaer Morhen. I will write the rest tomorrow\\n            for we shall presently be having Prayers. No one ever prayed in Kaer Morhen, I wonder why we have to here. No doubt because\\n            this is a Temple.Geralt. Mother Nenneke has read and said I must not write Silly Things and write clearly without mistakes. And about what\\n            I’m studying and that I feel well and healthy. I feel well and am healthy if unfortunately Hungry, but Soone be Dinner. And\\n            Mother Nenneke also said write that prayer has never harmed anybody yet, neither me nor, certainly, you.Geralt, I have some free time again, I will write therefore that I am studying. To read and write correct Runes. History.\\n            Nature. Poetry and Prose. To express myself well in the Common Speech and in the Elder Speech. I am best at the Elder Speech,\\n            I can also write Elder Runes. I will write something for you and you will see for yourself. Elaine blath, Feainnewedd. That\\n            meant: Beautiful flower, child of the Sun. You see for yourself that I can. And also—Now I can write again for I have found a new quill for the old one broke. Mother Nenneke read this and praised me that it\\n            was correct. That I am obedient, she told me to write, and that you should not worry. Don’t worry, Geralt.Again I have some time so I will write what happened. When we were feeding the turkey hens, I, Iola and Katye, One Enormous\\n            Turkey attacked us, a red neck it had and was Terrible Horrible. First it attacked Iola and then it wanted to attack me but\\n            I was not afraid because it was smaller and slower than the Pendulum anyway. I dodged and did a pirouette and walloped it\\n            twice with a switch until it Made Off. Mother Nenneke does not allow me to carry My Sword here, a pity, for I would have shown\\n            that Turkey what I learned in Kaer Morhen. I already know that in the Elder Runes it would be written Caer a’Muirehen and\\n            that it means Keep of the Elder Sea. So no doubt that is why there are Shells and Snails there as well as Fish imprinted on\\n            the stones. And Cintra is correctly written Xin’trea. Whereas my name comes from Zireael for that means Swallow and that means\\n            that……that means I have an elven name. But I am not, after all, an elf, Geralt, there is also talk about the Squirrels here. Sometimes\\n            even the Soldiers come and ask questions and say that we must not treat wounded elves. I have not squealed a word to anyone\\n            about what happened in spring, don’t worry. And I also remember to practise, don’t think otherwise. I go to the park and train\\n            when I have time. But not always, for I also have to work in the kitchen or in the orchard like all the girls. And we also\\n            have a terrible amount of studying to do. But never mind, I will study. After all, you too studied in the Temple, Mother Nenneke\\n            told me. And she also told me that just any idiot can brandish a sword but a witcher-girl must be wise.Geralt, you promised to come. Come.Your CiriPS Come, come.PS II. Mother Nenneke told me to end with Praise be to Great Melitele, may her blessing and favour always go with you. And\\n            may nothing happen to you.CiriI’d like to go to Ellander,But it’s dangerous. I might lead them to— These letters have got to end. Nenneke makes use of temple mail but still… Damn\\n            it, it’s too risky.Dear friend…Dear friend, your unexpected letter – which I received not quite three years after we last saw each other – has given me much\\n            joy. My joy is all the greater as various rumours have been circulating about your sudden and violent death. It is a good\\n            thing that you have decided to disclaim them by writing to me; it is a good thing, too, that you are doing so so soon. From\\n            your letter it appears that you have lived a peaceful, wonderfully boring life, devoid of all sensation. These days such a\\n            life is a real privilege, dear friend, and I am happy that you have managed to achieve it.I was touched by the sudden concern which you deigned to show as to my health, dear friend. I hasten with the news that, yes,\\n            I now feel well; the period of indisposition is behind me, I have dealt with the difficulties, the description of which I\\n            shall not bore you with.It worries and troubles me very much that the unexpected present you received from Fate brings you worries. Your supposition\\n            that this requires professional help is absolutely correct. Although your description of the difficulty – quite understandably\\n            – is enigmatic, I am sure I know the Source of the problem. And I agree with your opinion that the help of yet another magician\\n            is absolutely necessary. I feel honoured to be the second to whom you turn. What have I done to deserve to be so high on your\\n            list?Rest assured, my dear friend; and if you had the intention of supplicating the help of additional magicians, abandon it because\\n            there is no need. I leave without delay, and go to the place which you indicated in an oblique yet, to me, understandable\\n            way. It goes without saying that I leave in absolute secrecy and with great caution. I will surmise the nature of the trouble\\n            on the spot and will do all that is in my power to calm the gushing source. I shall try, in so doing, not to appear any worse\\n            than other ladies to whom you have turned, are turning or usually turn with your supplications. I am, after all, your dear\\n            friend. Your valuable friendship is too important to me to disappoint you, dear friend.Should you, in the next few years, wish to write to me, do not hesitate for a moment. Your letters invariably give me boundless\\n            pleasure.Your friend YenneferHyphydridaeHyphydridaeHyphydridaeAmphipodaHyphydra longicaudaHyphydra marginataPseudohyphydra,MordidaeIchthyovorax bumbleriius stapulaeius stapulaead valoremI agree with that last statement entirely,AmphipodaGeraltia maxiliosa pittiEveretiaEveretia maxiliosa pittihimMurder is always murder, regardless of motive or circumstance. Thus those who murder or who prepare to murder are malefactors\\n            and criminals, regardless of who they may be: kings, princes, marshals or judges. None who contemplates and commits violence\\n            has the right to consider himself better than an ordinary criminal. Because it is in the nature of all violence to lead inevitably\\n            to crime.Meditations on Life, Happiness and Prosperity  thisI’ve never seen a live unicorn,Never. And I probably never will.He doesn’t believe him,He doesn’t believe him and is deluding himself. He is making a great mistake.What a strange dream I had,The first dream for many days. The first where I wasn’t afraid. The first which wasn’t about me. I was an… observer. I saw\\n            everything as if from above, from high up… As if I were a bird… A night bird…A dream in which I saw Geralt.And I saw them from above. As if I were a bird. A night bird…Strange dream,Shame I woke up. I’d like to have seen what was going to happen… I’d like to know what they were doing there. Where they were\\n            going…I’ll fall asleep,I’ll go back to my dream. I’ll see what Geralt is doing there, in the night, in the rain, by the canal…If you’re afraid, turn back.That door mustn’t be opened. You know that.I do.But you’re still leading me there.If you’re afraid, turn back. You still have time to turn back. It’s not too late.And you?For me, it is.You have made a mistake. You mistook the stars reflected in the surface of the lake at night for the heavens.Dong,DongOh, you cocksure little student,You treacherous creep, you red-haired hussy, I’m going to find you and pay you back… Just let me get myself out of this.One ear,one ear I have to endure. Then I’ll tell him…If we’ve finished supping, let us go through into the workshop,The Chapter will do as he says, disguising his order as advice,We are all pawns on his chess board. He’s moved up, grown, obscured us with his brightness, subordinated us to him. We’re\\n            pawns in his game. A game the rules of which we do not know.Now you’re going to change tactics,You’re a player, you can hear which way the dice roll on the table. You’re going to change tactics. You’re going to strike\\n            a different noteAen Ithlinnespeath,Aen Hen IchaerMetal, stone, crystal,Are you looking for Yennefer? Why? And what does she have to do with Ithlin’s prophecy? Or with the Elder Blood of the Elves?\\n            What are you brewing, Vilgefortz?I’m sorry,The messenger is waiting for a reply,I understand. I have given orders to prepare chambers for your guests.Nowhere,But I’m listening carefully to you. Because at some stage you’ll finally mention the thing which really interests you.Stone, metal, crystal,Fine,If that’s what you want, fineFine, murderers,If that’s what you want, that’s what you’ll get.No one is born a wizard. We still know too little about genetics and the mechanisms of heredity. We sacrifice too little time\\n            and means on research. Unfortunately, we constantly try to pass on inherited magical abilities in, so to say, a natural way.\\n            Results of these pseudo-experiments can be seen all too often in town gutters and within temple walls. We see too many of\\n            them, and too frequently come across morons and women in a catatonic state, dribbling seers who soil themselves, seeresses,\\n            village oracles and miracle-workers, cretins whose minds are degenerate due to the inherited, uncontrolled Force.These morons and cretins can also have offspring, can pass on abilities and thus degenerate further. Is anyone in a position\\n            to foresee or describe how the last link in such a chain will look?Most of us wizards lose the ability to procreate due to somatic changes and dysfunction of the pituitary gland. Some wizards\\n            – usually women – attune to magic while still maintaining efficiency of the gonads. They can conceive and give birth – and\\n            have the audacity to consider this happiness and a blessing. But I repeat: no one is born a wizard. And no one should be born\\n            one! Conscious of the gravity of what I write, I answer the question posed at the Congress in Cidaris. I answer most emphatically:\\n            each one of us must decide what she wants to be – a wizard or a mother.I demand all apprentices be sterilised. Without exception.The Poisoned Source  The History of WarStrategy,The Victorious Deeds of Redania’s Gallant CavalrymenHealing and CuringThe Life and Deeds of Great King Radovidcasus belli—casus belliOur first meeting,I remember. I was in the Grotto with the other girls. Hrosvitha was showing us plants and herbs. Then Iola the First came\\n            in and whispered something in Hrosvitha’s ear. The priestess grimaced with animosity. And Iola the First came up to me with\\n            a strange expression on her faceshe said,Strange, meaningful glances, excitement in their eyes. And whispers. YenneferI knew immediately,that it was her. Because I’d seen her. I’d seen her the night before. In my dream.Her.I didn’t know her name then. She didn’t say anything in my dream. She only looked at me and behind her, in the darkness, I\\n            saw a closed door…I’ll escape tonight,Back to Kaer Morhen. I’ll steal a horse from the stables and that’s the last they’ll see of me. I’ll run away!They’re talking quite openly in front of me, without any restraint,They’re not bothered about me at all. Ignoring me completely. As if I were a child. They’re talking about Geralt in front\\n            of me, in my presence, but they can’t because I… I am…Who?Dialogues on the Nature of Magic,Forces of the ElementsNatural MagicThe Invisible WorldThe Secret of SecretsCodex of Mirthe, Ard Aercane,Dhu Dwimmermorc,The History of the WorldA Treatise on LifeGambolsThe King’s LadiesThe Adversities of LovingTime of the Moon,The Blue PearlThat laughter,that laughter, shared and sincere, really brought us together, her and me. We understood – both she and I – that we can laugh\\n            and talk together about him. About Geralt. Suddenly we became close, although I knew perfectly well that Geralt both brought\\n            us together and separated us, and that that’s how it would always be.Our laughter together brought us closer to each other.As did the events two days later. In the forest, on the hills. She was showing me how to find…She’s going to ask me something in a moment,I can hear her thinking about it. She’s going to ask about something I don’t remember again. Or something I don’t want to\\n            remember. No, it’s senseless. I’m not going to answer. All of that is in the past, and there’s no returning to the past. She\\n            once said so herself.Why all this,Why these questions, these recollections? There’s no returning to the past. There’s no one there for me any more. Not my papa,\\n            nor my mama, nor my grandmother, the one who was Ard Rhena, the Lioness of Cintra. Uncle Crach an Craite, no doubt, is also\\n            dead. I haven’t got anybody any more and am someone else. There’s no returning…I’m not going to answer the next question,Dhu DwimmermorcIn a minute she’s going to ask why I didn’t like her,No, she’s too clever to ask such a question. She’ll dryly draw my attention to my grammar and ask when I started using the\\n            past tense. And I’ll tell her. I’ll be just as dry as she is, I’ll parody her tone of voice, let her know that I, too, can\\n            pretend to be cold, unfeeling and indifferent, ashamed of my feelings and emotions. I’ll tell her everything. I want to, I\\n            have to tell her everything. I want her to know everything before we leave Melitele’s Temple. Before we part to finally meet\\n            the one I miss. The one she misses. The one who no doubt misses us both. I want to tell her that…I’ll tell her. It’s enough for her to ask.    by Andrzej SapkowskiYou. You will be the first to grow weak, Sorcerer. I will kill you.I will kill you. I’ll kill you. I’ll kill you   '"
            ]
          },
          "metadata": {
            "tags": []
          },
          "execution_count": 34
        }
      ]
    },
    {
      "cell_type": "code",
      "metadata": {
        "id": "OQMKMsejhjjx"
      },
      "source": [
        "corpus = data.lower().split('\\n')\n",
        "\n",
        "ok = []\n",
        "for i in corpus:\n",
        "    ok.append(i.strip())\n"
      ],
      "execution_count": 35,
      "outputs": []
    },
    {
      "cell_type": "code",
      "metadata": {
        "id": "3dsE2OPJhjj0",
        "outputId": "a09d0351-5995-4864-a29a-e47559fd2ed9",
        "colab": {
          "base_uri": "https://localhost:8080/",
          "height": 188
        }
      },
      "source": [
        "ok  = ok[6:150]\n",
        "training =''\n",
        "for i in ok:\n",
        "     training+= f' {i} '\n",
        "\n",
        "training"
      ],
      "execution_count": 38,
      "outputs": [
        {
          "output_type": "execute_result",
          "data": {
            "application/vnd.google.colaboratory.intrinsic+json": {
              "type": "string"
            },
            "text/plain": [
              "' of foul sorcery and devilry. they are rogues without virtue, conscience or scruple, true diabolic creations, fit only for  killing. there is no place amidst honest men for such as they.and kaer morhen, where these infamous beings nestle, where they perform their foul practices, must be wiped from the surface  of this earth, and all trace of it strewn with salt and saltpetre.monstrum,description of the witcherintolerance and superstition has always been the domain of the more stupid amongst the common folk and, i conjecture, will  never be uprooted, for they are as eternal as stupidity itself. there, where mountains tower today, one day there will be  seas; there where today seas surge, will one day be deserts. but stupidity will remain stupidity.meditations on life, happiness and prosperity  i can understand that,a child trained to be a witcher, a girl, at that, who has not undergone the mutations, should not be told such things. a child  like that should not hear about the massacre. a child like that should not be terrified by the prospect that they too may  one day hear words describing it like those which were screamed by the fanatics who marched on kaer morhen long ago. mutant.  monster. freak. damned by the gods, a creature contrary to nature. no, i do not blame the witchers for not telling you about  it, little ciri. and i shan’t tell you either. i have even more reason to be silent. because i am a wizard, and without the  aid of wizards those fanatics would never have conquered the castle. and that hide-ous lampoon, that widely distributedwhich stirred the fanatics up and drove them to such wickedness was also, apparently, some wizard’s anonymous work. but i,  little ciri, do not recognise collective responsibility, i do not feel the need to expiate the events which took place half  a century before my birth. and the skeletons which are meant to serve as an eternal reminder will ultimately rot away completely,  disintegrate into dust and be forgotten, will disappear with the wind which constantly whips the mountainsideha,so it is truth, not a legend. she is the one. i guessed correctlyin the tower,all right, vesemir. let it be the tower for today, if appearances matter so much to you. i can sleep in the tower in the best  of all the beds in kaer morhen. although i would prefer to sleep with geralt in the worst.i’ve no control over myself,i’m behaving like a stupid adolescent. or even worse – like an old maid deprived of affection. i can’t even think logically.of course it wasn’t geralt. don’t get excited, little one. don’t get excited, just think of his expression in the stable.  you’ve seen expressions like that before. you’ve seen them, so don’t kid yourself. the foolish, contrite, embarrassed expressions  of men who want to forget, who regret, who don’t want to remember what happened, don’t want to go back to what has been. by  all the gods, little one, don’t fool yourself it’s different this time. it’s never different. and you know it. because, after  all, you’ve had a fair amount of experience.no,no. don’t be silly. don’t think about it. think about…about ciri. is she… yesthe ash-blonde girl who, here in kaer morhen, they want to turn into a witcher. a real witcher. a mutant. a killing machine,  like themselves.it’s clear,it’s obvious. they want to mutate the child, subject her to the trial of grasses and changes, but they don’t know how to do  itwho knows,perhaps they have tried?have they given children concoctions prepared without the use of magic?and now they want to mutate the girl but can’t. and that might mean… they may ask me to help. and then i’ll see something  no living wizard has seen, i’ll learn something no living wizard has learned. their famous grasses and herbs, the secret virus  cultures, the renowned, mysterious recipes…and i will be the one to give the child a number of elixirs, who will watch the changes of mutation, who will watch, with  my own eyes…watch the ashen-haired child dieoh, no.never. not at such a price.besides,i’ve probably got excited too soon again. that’s probably not what this is about. we talked over supper, gossiped about this  and that. i tried to guide the conversation to the child surprise several times to no avail. they changed the subject at once.of course,they’re feeding her those legendary cave saprophytes – a mountain plant unknown to science – giving her the famous infusions  of their mysterious herbs to drink. the girl is developing quickly, is acquiring a witcher’s infernal fitness. naturally,  without the mutation, without the risk, without the hormonal upheaval. but the magician must not know this. it is to be kept  a secret from the magician. they aren’t going to tell me anything; they aren’t going to show me anything.i saw how that girl ran. i saw how she danced on the beam with her sword, agile and swift, full of a dancer’s near-feline  grace, moving like an acrobat. i must,i absolutely must see her body, see how she’s developing under the influence of whatever it is they’re feeding her. and what  if i managed to steal samples of these “mushrooms” and “salads” and take them away? well, well…and trust? i don’t give a fig for your trust, witchers. there’s cancer out there in the world, smallpox, tetanus and leukaemia,  there are allergies, there’s cot death. and you’re keeping your “mushrooms”, which could perhaps be distilled and turned into  life-saving medicines, hidden away from the world. you’re keeping them a secret even from me, and others to whom you declare  your friendship, respect and trust. even i’m forbidden to see not just the laboratorium, but even the bloody mushrooms!so why did you bring me here? me, a magician?magic!ha,witchers, i’ve got you! ciri scared you just as she did me. she “withdrew” into a daydream, started to prophesy, gave out  an aura which, after all, you can sense almost as well as i can. she automatically reached for something psychokinetically,  or bent a pewter spoon with her will as she stared at it during lunch. she answered questions you only thought, and maybe  even some which you were afraid to ask yourselves. and you felt fear. you realised that your surprise is more surprising than  you had imagined.you realised that you have the source in kaer morhen.and that, you can’t manage without a magician.and you don’t have a single friendly magician, not a single one you could trust. apart from me and…and yennefer.does that mean…?who knows. maybe. but if it’s as i think then why…?why…?aha,so it’s your work, master of the sword. predictable enough, ciri’s short tunic does look as if it has been cut out with a  knife and sewn together with an arrow-head.but then,in his day the world was a better place. duplicity was a character flaw to be ashamed of. sincerity did not bring shame.on the third day all the children died save one, a male barely ten. hitherto agitated by a sudden madness, he fell all at  once into deep stupor. his eyes took on a glassy gaze; incessantly with his hands did he clutch at clothing, or brandish them  in the air as if desirous of catching a quill. his breathing grew loud and hoarse; sweat cold, clammy and malodorous appeared  on his skin. then was he once more given elixir through the vein and the seizure it did return. this time a nose-bleed did  ensue, coughing turned to vomiting, after which the male weakened entirely and became inert.for two days more did symptoms not subside. the child’s skin, hitherto drenched in sweat, grew dry and hot, the pulse ceased  to be full and firm – albeit remaining of average strength, slow rather than fast. no more did he wake, nor did he scream.finally, came the seventh day. the male awoke and opened his eyes, and his eyes were as those of a viper…the trial of grasses and other secret witcher practices, seen with my own eyes,  isforce of suggestion,it is only force of suggestion. seagull!triiiss! triiss!ciri? where are you?triiiss!triss?ciri?forget about him! don’t torture him! forget! forget, triss!forget!triss! triss! trisss!that’s not true,nothing’s all rightupriver we saw their towns, as delicate as if they were woven from the morning mist out of which they loomed. it seemed as  if they would disappear a moment later, blown away on the wind which rippled the surface of the water. there were little palaces,  white as nenuphar flowers; there were little towers looking as though they were plaited out of ivy; there were bridges as  airy as weeping willows. and there were other things for which we could find no word or name. yet we already had names for  everything which our eyes beheld in this new, reborn world. suddenly, in the far recesses of our memories, we found the words  for dragons and griffins, mermaids and nymphs, sylphs and dryads once more. for the white unicorns which drank from the river  at dusk, inclining their slender necks towards the water. we named everything. and everything seemed to be close to our hearts,  familiar to us, ours.apart from them. they, although so resembling us, were alien. so very alien that, for a long time, we could find no word for  their strangeness.elves and humansa good elf is a dead elf.  younotyoupah-pahpah-pah-pahpah-pah!exactly as if i were a child,and i’m almost thirteen and have a swift chestnut beneath me and a sharp sword across my back. and i’m not afraid of anything!and it’s spring!pah-pah!further, dear horse, don’t feel the bit, further, at the gallop, at the gallop, sharp, sharp! spring!ha,the safety of the entire convoy depends on me now. they’re all waiting impatiently for me to return and report: the way is  clear and passable, i didn’t see anyone – there are no traces of wheels or hooves. i’ll report it, and thin master wenck with  his cold, blue eyes will nod his head gravely, yarpen zigrin will bare his yellow, horse teeth, paulie dahlberg will shout:  “well done, little one!’, and geralt will smile faintly. he’ll smile, although he very rarely smiles recently.traces? what traces can there be here? there’s no one here. there’s the forest. there are birds screeching amidst fresh, green  leaves. a red fox runs leisurely across the path… and everything smells of spring.what are they afraid of?the scoia’tael? but what was there to be afraid of? i’m not frightened of elves. i haven’t done anything to them.elves who kill humans and die in battles themselves. geralt says you have to remain neutral… and yarpen says you have to behave  in such a way that you don’t have to ask for forgiveness…the squirrels kill humans. and nilfgaard pays them for it. uses them. incites them. nilfgaard.a witcher looking on indifferently? no! a witcher has to defend people. from the leshy, the vampire, the werewolf. and not  only from them. he has to defend people from every evil. and in transriver i saw what evil is.a witcher has to defend and save. to defend men so that they aren’t hung on trees by their hands, aren’t impaled and left  to die. to defend fair girls from being spread-eagled between stakes rammed into the ground. defend children so they aren’t  slaughtered and thrown into a well. even a cat burned alive in a torched barn deserves to be defended. that’s why i’m going  to become a witcher, that’s why i’ve got a sword, to defend people like those in sodden and transriver – because they don’t  have swords, don’t know the steps, half-turns, dodges and pirouettes. no one has taught them how to fight, they are defenceless  and helpless in face of the werewolf and the nilfgaardian marauder. they’re teaching me to fight so that i can defend the  helpless. and that’s what i’m going to do. never will i be neutral. never will i be indifferent.never!just let the horse not neigh,they roam the land, importunate and insolent, nominating themselves the stalkers of evil, vanquishers of werewolves and exterminators  of spectres, extorting payment from the gullible and, on receipt of their ignoble earnings, moving on to dispense the same  deceit in the near vicinity. the easiest access they find at cottages of honest, simple and unwitting peasants who readily  ascribe all misfortune and ill events to spells, unnatural creatures and monsters, the doings of windsprites or evil spirits.  instead of praying to the gods, instead of bearing rich offerings to the temple, such a simpleton is ready to give his last  penny to the base witcher, believing the witcher, the godless changeling, will turn around his fate and save him from misfortune.monstrum,description of the witcheri have nothing against witchers. let them hunt vampires. as long as they pay taxes.if you thirst for justice, hire a witcher.  …i sleep in a large hall called a dormitorium and my bed is terribly big, i tell you. i’m with the intermediary girls. there  are twelve of us but i’m most friendly with eurneid, katye and iola the second. whereas today i ate broth and the worst is  that sometimes we have to fast and get up very early at dawn. earlier than in kaer morhen. i will write the rest tomorrow  for we shall presently be having prayers. no one ever prayed in kaer morhen, i wonder why we have to here. no doubt because  this is a temple.geralt. mother nenneke has read and said i must not write silly things and write clearly without mistakes. and about what  i’m studying and that i feel well and healthy. i feel well and am healthy if unfortunately hungry, but soone be dinner. and  mother nenneke also said write that prayer has never harmed anybody yet, neither me nor, certainly, you.geralt, i have some free time again, i will write therefore that i am studying. to read and write correct runes. history.  nature. poetry and prose. to express myself well in the common speech and in the elder speech. i am best at the elder speech,  i can also write elder runes. i will write something for you and you will see for yourself. elaine blath, feainnewedd. that  meant: beautiful flower, child of the sun. you see for yourself that i can. and also—now i can write again for i have found a new quill for the old one broke. mother nenneke read this and praised me that it  was correct. that i am obedient, she told me to write, and that you should not worry. don’t worry, geralt.again i have some time so i will write what happened. when we were feeding the turkey hens, i, iola and katye, one enormous  turkey attacked us, a red neck it had and was terrible horrible. first it attacked iola and then it wanted to attack me but  i was not afraid because it was smaller and slower than the pendulum anyway. i dodged and did a pirouette and walloped it  twice with a switch until it made off. mother nenneke does not allow me to carry my sword here, a pity, for i would have shown  that turkey what i learned in kaer morhen. i already know that in the elder runes it would be written caer a’muirehen and  that it means keep of the elder sea. so no doubt that is why there are shells and snails there as well as fish imprinted on  the stones. and cintra is correctly written xin’trea. whereas my name comes from zireael for that means swallow and that means  that……that means i have an elven name. but i am not, after all, an elf, geralt, there is also talk about the squirrels here. sometimes  even the soldiers come and ask questions and say that we must not treat wounded elves. i have not squealed a word to anyone  about what happened in spring, don’t worry. and i also remember to practise, don’t think otherwise. i go to the park and train  when i have time. but not always, for i also have to work in the kitchen or in the orchard like all the girls. and we also  have a terrible amount of studying to do. but never mind, i will study. after all, you too studied in the temple, mother nenneke  told me. and she also told me that just any idiot can brandish a sword but a witcher-girl must be wise.geralt, you promised to come. come.your cirips come, come.ps ii. mother nenneke told me to end with praise be to great melitele, may her blessing and favour always go with you. and  may nothing happen to you.cirii’d like to go to ellander,but it’s dangerous. i might lead them to— these letters have got to end. nenneke makes use of temple mail but still… damn  it, it’s too risky.dear friend…dear friend, your unexpected letter – which i received not quite three years after we last saw each other – has given me much  joy. my joy is all the greater as various rumours have been circulating about your sudden and violent death. it is a good  thing that you have decided to disclaim them by writing to me; it is a good thing, too, that you are doing so so soon. from  your letter it appears that you have lived a peaceful, wonderfully boring life, devoid of all sensation. these days such a  life is a real privilege, dear friend, and i am happy that you have managed to achieve it.i was touched by the sudden concern which you deigned to show as to my health, dear friend. i hasten with the news that, yes,  i now feel well; the period of indisposition is behind me, i have dealt with the difficulties, the description of which i  shall not bore you with.it worries and troubles me very much that the unexpected present you received from fate brings you worries. your supposition  that this requires professional help is absolutely correct. although your description of the difficulty – quite understandably  – is enigmatic, i am sure i know the source of the problem. and i agree with your opinion that the help of yet another magician  is absolutely necessary. i feel honoured to be the second to whom you turn. what have i done to deserve to be so high on your  list?rest assured, my dear friend; and if you had the intention of supplicating the help of additional magicians, abandon it because  there is no need. i leave without delay, and go to the place which you indicated in an oblique yet, to me, understandable  way. it goes without saying that i leave in absolute secrecy and with great caution. i will surmise the nature of the trouble  on the spot and will do all that is in my power to calm the gushing source. i shall try, in so doing, not to appear any worse  than other ladies to whom you have turned, are turning or usually turn with your supplications. i am, after all, your dear  friend. your valuable friendship is too important to me to disappoint you, dear friend.should you, in the next few years, wish to write to me, do not hesitate for a moment. your letters invariably give me boundless  pleasure.your friend yenneferhyphydridaehyphydridaehyphydridaeamphipodahyphydra longicaudahyphydra marginatapseudohyphydra,mordidaeichthyovorax bumbleriius stapulaeius stapulaead valoremi agree with that last statement entirely,amphipodageraltia maxiliosa pittieveretiaeveretia maxiliosa pittihimmurder is always murder, regardless of motive or circumstance. thus those who murder or who prepare to murder are malefactors  and criminals, regardless of who they may be: kings, princes, marshals or judges. none who contemplates and commits violence  has the right to consider himself better than an ordinary criminal. because it is in the nature of all violence to lead inevitably  to crime.meditations on life, happiness and prosperity  thisi’ve never seen a live unicorn,never. and i probably never will.he doesn’t believe him,he doesn’t believe him and is deluding himself. he is making a great mistake.what a strange dream i had,the first dream for many days. the first where i wasn’t afraid. the first which wasn’t about me. i was an… observer. i saw  everything as if from above, from high up… as if i were a bird… a night bird…a dream in which i saw geralt.and i saw them from above. as if i were a bird. a night bird…strange dream,shame i woke up. i’d like to have seen what was going to happen… i’d like to know what they were doing there. where they were  going…i’ll fall asleep,i’ll go back to my dream. i’ll see what geralt is doing there, in the night, in the rain, by the canal…if you’re afraid, turn back.that door mustn’t be opened. you know that.i do.but you’re still leading me there.if you’re afraid, turn back. you still have time to turn back. it’s not too late.and you?for me, it is.you have made a mistake. you mistook the stars reflected in the surface of the lake at night for the heavens.dong,dongoh, you cocksure little student,you treacherous creep, you red-haired hussy, i’m going to find you and pay you back… just let me get myself out of this.one ear,one ear i have to endure. then i’ll tell him…if we’ve finished supping, let us go through into the workshop,the chapter will do as he says, disguising his order as advice,we are all pawns on his chess board. he’s moved up, grown, obscured us with his brightness, subordinated us to him. we’re  pawns in his game. a game the rules of which we do not know.now you’re going to change tactics,you’re a player, you can hear which way the dice roll on the table. you’re going to change tactics. you’re going to strike  a different noteaen ithlinnespeath,aen hen ichaermetal, stone, crystal,are you looking for yennefer? why? and what does she have to do with ithlin’s prophecy? or with the elder blood of the elves?  what are you brewing, vilgefortz?i’m sorry,the messenger is waiting for a reply,i understand. i have given orders to prepare chambers for your guests.nowhere,but i’m listening carefully to you. because at some stage you’ll finally mention the thing which really interests you.stone, metal, crystal,fine,if that’s what you want, finefine, murderers,if that’s what you want, that’s what you’ll get.no one is born a wizard. we still know too little about genetics and the mechanisms of heredity. we sacrifice too little time  and means on research. unfortunately, we constantly try to pass on inherited magical abilities in, so to say, a natural way.  results of these pseudo-experiments can be seen all too often in town gutters and within temple walls. we see too many of  them, and too frequently come across morons and women in a catatonic state, dribbling seers who soil themselves, seeresses,  village oracles and miracle-workers, cretins whose minds are degenerate due to the inherited, uncontrolled force.these morons and cretins can also have offspring, can pass on abilities and thus degenerate further. is anyone in a position  to foresee or describe how the last link in such a chain will look?most of us wizards lose the ability to procreate due to somatic changes and dysfunction of the pituitary gland. some wizards  – usually women – attune to magic while still maintaining efficiency of the gonads. they can conceive and give birth – and  have the audacity to consider this happiness and a blessing. but i repeat: no one is born a wizard. and no one should be born  one! conscious of the gravity of what i write, i answer the question posed at the congress in cidaris. i answer most emphatically:  each one of us must decide what she wants to be – a wizard or a mother.i demand all apprentices be sterilised. without exception.the poisoned source  the history of warstrategy,the victorious deeds of redania’s gallant cavalrymenhealing and curingthe life and deeds of great king radovidcasus belli—casus belliour first meeting,i remember. i was in the grotto with the other girls. hrosvitha was showing us plants and herbs. then iola the first came  in and whispered something in hrosvitha’s ear. the priestess grimaced with animosity. and iola the first came up to me with  a strange expression on her faceshe said,strange, meaningful glances, excitement in their eyes. and whispers. yenneferi knew immediately,that it was her. because i’d seen her. i’d seen her the night before. in my dream.her.i didn’t know her name then. she didn’t say anything in my dream. she only looked at me and behind her, in the darkness, i  saw a closed door…i’ll escape tonight,back to kaer morhen. i’ll steal a horse from the stables and that’s the last they’ll see of me. i’ll run away!they’re talking quite openly in front of me, without any restraint,they’re not bothered about me at all. ignoring me completely. as if i were a child. they’re talking about geralt in front  of me, in my presence, but they can’t because i… i am…who?dialogues on the nature of magic,forces of the elementsnatural magicthe invisible worldthe secret of secretscodex of mirthe, ard aercane,dhu dwimmermorc,the history of the worlda treatise on lifegambolsthe king’s ladiesthe adversities of lovingtime of the moon,the blue pearlthat laughter,that laughter, shared and sincere, really brought us together, her and me. we understood – both she and i – that we can laugh  and talk together about him. about geralt. suddenly we became close, although i knew perfectly well that geralt both brought  us together and separated us, and that that’s how it would always be.our laughter together brought us closer to each other.as did the events two days later. in the forest, on the hills. she was showing me how to find…she’s going to ask me something in a moment,i can hear her thinking about it. she’s going to ask about something i don’t remember again. or something i don’t want to  remember. no, it’s senseless. i’m not going to answer. all of that is in the past, and there’s no returning to the past. she  once said so herself.why all this,why these questions, these recollections? there’s no returning to the past. there’s no one there for me any more. not my papa,  nor my mama, nor my grandmother, the one who was ard rhena, the lioness of cintra. uncle crach an craite, no doubt, is also  dead. i haven’t got anybody any more and am someone else. there’s no returning…i’m not going to answer the next question,dhu dwimmermorcin a minute she’s going to ask why i didn’t like her,no, she’s too clever to ask such a question. she’ll dryly draw my attention to my grammar and ask when i started using the  past tense. and i’ll tell her. i’ll be just as dry as she is, i’ll parody her tone of voice, let her know that i, too, can  pretend to be cold, unfeeling and indifferent, ashamed of my feelings and emotions. i’ll tell her everything. i want to, i  have to tell her everything. i want her to know everything before we leave melitele’s temple. before we part to finally meet  the one i miss. the one she misses. the one who no doubt misses us both. i want to tell her that…i’ll tell her. it’s enough for her to ask.    by andrzej sapkowskiyou. you will be the first to grow weak, sorcerer. i will kill you.i will kill you. i’ll kill you. i’ll kill you '"
            ]
          },
          "metadata": {
            "tags": []
          },
          "execution_count": 38
        }
      ]
    },
    {
      "cell_type": "code",
      "metadata": {
        "id": "N3pc5Y06hjj3"
      },
      "source": [
        "corpus=ok\n"
      ],
      "execution_count": 56,
      "outputs": []
    },
    {
      "cell_type": "code",
      "metadata": {
        "id": "nXtP5mguhjj6"
      },
      "source": [
        "tokenizer = Tokenizer(num_words=700)\n",
        "tokenizer.fit_on_texts(corpus)"
      ],
      "execution_count": 57,
      "outputs": []
    },
    {
      "cell_type": "code",
      "metadata": {
        "id": "QHfVBqaMhjj9"
      },
      "source": [
        "total_words = len(tokenizer.word_index)+1"
      ],
      "execution_count": 58,
      "outputs": []
    },
    {
      "cell_type": "code",
      "metadata": {
        "id": "FHRs47ybhjkA"
      },
      "source": [
        "input_sequences = []\n",
        "for line in corpus:\n",
        "    token_list = tokenizer.texts_to_sequences([line])[0]\n",
        "    for i in range(1, len(token_list)):\n",
        "        #breaking the words down into phrases\n",
        "        n_gram_sequences = token_list[:i+1]\n",
        "        input_sequences.append(n_gram_sequences)"
      ],
      "execution_count": 59,
      "outputs": []
    },
    {
      "cell_type": "code",
      "metadata": {
        "id": "5E48eXW2hjkE"
      },
      "source": [
        "import numpy as np\n",
        "from tensorflow.keras.preprocessing.sequence import pad_sequences"
      ],
      "execution_count": 60,
      "outputs": []
    },
    {
      "cell_type": "code",
      "metadata": {
        "id": "RS4IjVpAhjkH"
      },
      "source": [
        "longest = len(input_sequences[:-1])\n",
        "input_sequences= np.array(pad_sequences(input_sequences, maxlen=longest, padding='pre'))"
      ],
      "execution_count": 61,
      "outputs": []
    },
    {
      "cell_type": "code",
      "metadata": {
        "id": "qYdgw_Aw1E3L",
        "outputId": "0f66a0f3-59cb-4e37-a09e-f762839b55c6",
        "colab": {
          "base_uri": "https://localhost:8080/",
          "height": 1000
        }
      },
      "source": [
        "ok"
      ],
      "execution_count": 62,
      "outputs": [
        {
          "output_type": "execute_result",
          "data": {
            "text/plain": [
              "['of foul sorcery and devilry. they are rogues without virtue, conscience or scruple, true diabolic creations, fit only for',\n",
              " 'killing. there is no place amidst honest men for such as they.and kaer morhen, where these infamous beings nestle, where they perform their foul practices, must be wiped from the surface',\n",
              " 'of this earth, and all trace of it strewn with salt and saltpetre.monstrum,description of the witcherintolerance and superstition has always been the domain of the more stupid amongst the common folk and, i conjecture, will',\n",
              " 'never be uprooted, for they are as eternal as stupidity itself. there, where mountains tower today, one day there will be',\n",
              " 'seas; there where today seas surge, will one day be deserts. but stupidity will remain stupidity.meditations on life, happiness and prosperity  i can understand that,a child trained to be a witcher, a girl, at that, who has not undergone the mutations, should not be told such things. a child',\n",
              " 'like that should not hear about the massacre. a child like that should not be terrified by the prospect that they too may',\n",
              " 'one day hear words describing it like those which were screamed by the fanatics who marched on kaer morhen long ago. mutant.',\n",
              " 'monster. freak. damned by the gods, a creature contrary to nature. no, i do not blame the witchers for not telling you about',\n",
              " 'it, little ciri. and i shan’t tell you either. i have even more reason to be silent. because i am a wizard, and without the',\n",
              " 'aid of wizards those fanatics would never have conquered the castle. and that hide-ous lampoon, that widely distributedwhich stirred the fanatics up and drove them to such wickedness was also, apparently, some wizard’s anonymous work. but i,',\n",
              " 'little ciri, do not recognise collective responsibility, i do not feel the need to expiate the events which took place half',\n",
              " 'a century before my birth. and the skeletons which are meant to serve as an eternal reminder will ultimately rot away completely,',\n",
              " 'disintegrate into dust and be forgotten, will disappear with the wind which constantly whips the mountainsideha,so it is truth, not a legend. she is the one. i guessed correctlyin the tower,all right, vesemir. let it be the tower for today, if appearances matter so much to you. i can sleep in the tower in the best',\n",
              " 'of all the beds in kaer morhen. although i would prefer to sleep with geralt in the worst.i’ve no control over myself,i’m behaving like a stupid adolescent. or even worse – like an old maid deprived of affection. i can’t even think logically.of course it wasn’t geralt. don’t get excited, little one. don’t get excited, just think of his expression in the stable.',\n",
              " 'you’ve seen expressions like that before. you’ve seen them, so don’t kid yourself. the foolish, contrite, embarrassed expressions',\n",
              " 'of men who want to forget, who regret, who don’t want to remember what happened, don’t want to go back to what has been. by',\n",
              " 'all the gods, little one, don’t fool yourself it’s different this time. it’s never different. and you know it. because, after',\n",
              " 'all, you’ve had a fair amount of experience.no,no. don’t be silly. don’t think about it. think about…about ciri. is she… yesthe ash-blonde girl who, here in kaer morhen, they want to turn into a witcher. a real witcher. a mutant. a killing machine,',\n",
              " 'like themselves.it’s clear,it’s obvious. they want to mutate the child, subject her to the trial of grasses and changes, but they don’t know how to do',\n",
              " 'itwho knows,perhaps they have tried?have they given children concoctions prepared without the use of magic?and now they want to mutate the girl but can’t. and that might mean… they may ask me to help. and then i’ll see something',\n",
              " 'no living wizard has seen, i’ll learn something no living wizard has learned. their famous grasses and herbs, the secret virus',\n",
              " 'cultures, the renowned, mysterious recipes…and i will be the one to give the child a number of elixirs, who will watch the changes of mutation, who will watch, with',\n",
              " 'my own eyes…watch the ashen-haired child dieoh, no.never. not at such a price.besides,i’ve probably got excited too soon again. that’s probably not what this is about. we talked over supper, gossiped about this',\n",
              " 'and that. i tried to guide the conversation to the child surprise several times to no avail. they changed the subject at once.of course,they’re feeding her those legendary cave saprophytes – a mountain plant unknown to science – giving her the famous infusions',\n",
              " 'of their mysterious herbs to drink. the girl is developing quickly, is acquiring a witcher’s infernal fitness. naturally,',\n",
              " 'without the mutation, without the risk, without the hormonal upheaval. but the magician must not know this. it is to be kept',\n",
              " 'a secret from the magician. they aren’t going to tell me anything; they aren’t going to show me anything.i saw how that girl ran. i saw how she danced on the beam with her sword, agile and swift, full of a dancer’s near-feline',\n",
              " 'grace, moving like an acrobat. i must,i absolutely must see her body, see how she’s developing under the influence of whatever it is they’re feeding her. and what',\n",
              " 'if i managed to steal samples of these “mushrooms” and “salads” and take them away? well, well…and trust? i don’t give a fig for your trust, witchers. there’s cancer out there in the world, smallpox, tetanus and leukaemia,',\n",
              " 'there are allergies, there’s cot death. and you’re keeping your “mushrooms”, which could perhaps be distilled and turned into',\n",
              " 'life-saving medicines, hidden away from the world. you’re keeping them a secret even from me, and others to whom you declare',\n",
              " 'your friendship, respect and trust. even i’m forbidden to see not just the laboratorium, but even the bloody mushrooms!so why did you bring me here? me, a magician?magic!ha,witchers, i’ve got you! ciri scared you just as she did me. she “withdrew” into a daydream, started to prophesy, gave out',\n",
              " 'an aura which, after all, you can sense almost as well as i can. she automatically reached for something psychokinetically,',\n",
              " 'or bent a pewter spoon with her will as she stared at it during lunch. she answered questions you only thought, and maybe',\n",
              " 'even some which you were afraid to ask yourselves. and you felt fear. you realised that your surprise is more surprising than',\n",
              " 'you had imagined.you realised that you have the source in kaer morhen.and that, you can’t manage without a magician.and you don’t have a single friendly magician, not a single one you could trust. apart from me and…and yennefer.does that mean…?who knows. maybe. but if it’s as i think then why…?why…?aha,so it’s your work, master of the sword. predictable enough, ciri’s short tunic does look as if it has been cut out with a',\n",
              " 'knife and sewn together with an arrow-head.but then,in his day the world was a better place. duplicity was a character flaw to be ashamed of. sincerity did not bring shame.on the third day all the children died save one, a male barely ten. hitherto agitated by a sudden madness, he fell all at',\n",
              " 'once into deep stupor. his eyes took on a glassy gaze; incessantly with his hands did he clutch at clothing, or brandish them',\n",
              " 'in the air as if desirous of catching a quill. his breathing grew loud and hoarse; sweat cold, clammy and malodorous appeared',\n",
              " 'on his skin. then was he once more given elixir through the vein and the seizure it did return. this time a nose-bleed did',\n",
              " 'ensue, coughing turned to vomiting, after which the male weakened entirely and became inert.for two days more did symptoms not subside. the child’s skin, hitherto drenched in sweat, grew dry and hot, the pulse ceased',\n",
              " 'to be full and firm – albeit remaining of average strength, slow rather than fast. no more did he wake, nor did he scream.finally, came the seventh day. the male awoke and opened his eyes, and his eyes were as those of a viper…the trial of grasses and other secret witcher practices, seen with my own eyes,  isforce of suggestion,it is only force of suggestion. seagull!triiiss! triiss!ciri? where are you?triiiss!triss?ciri?forget about him! don’t torture him! forget! forget, triss!forget!triss! triss! trisss!that’s not true,nothing’s all rightupriver we saw their towns, as delicate as if they were woven from the morning mist out of which they loomed. it seemed as',\n",
              " 'if they would disappear a moment later, blown away on the wind which rippled the surface of the water. there were little palaces,',\n",
              " 'white as nenuphar flowers; there were little towers looking as though they were plaited out of ivy; there were bridges as',\n",
              " 'airy as weeping willows. and there were other things for which we could find no word or name. yet we already had names for',\n",
              " 'everything which our eyes beheld in this new, reborn world. suddenly, in the far recesses of our memories, we found the words',\n",
              " 'for dragons and griffins, mermaids and nymphs, sylphs and dryads once more. for the white unicorns which drank from the river',\n",
              " 'at dusk, inclining their slender necks towards the water. we named everything. and everything seemed to be close to our hearts,',\n",
              " 'familiar to us, ours.apart from them. they, although so resembling us, were alien. so very alien that, for a long time, we could find no word for',\n",
              " 'their strangeness.elves and humansa good elf is a dead elf.  younotyoupah-pahpah-pah-pahpah-pah!exactly as if i were a child,and i’m almost thirteen and have a swift chestnut beneath me and a sharp sword across my back. and i’m not afraid of anything!and it’s spring!pah-pah!further, dear horse, don’t feel the bit, further, at the gallop, at the gallop, sharp, sharp! spring!ha,the safety of the entire convoy depends on me now. they’re all waiting impatiently for me to return and report: the way is',\n",
              " 'clear and passable, i didn’t see anyone – there are no traces of wheels or hooves. i’ll report it, and thin master wenck with',\n",
              " 'his cold, blue eyes will nod his head gravely, yarpen zigrin will bare his yellow, horse teeth, paulie dahlberg will shout:',\n",
              " '“well done, little one!’, and geralt will smile faintly. he’ll smile, although he very rarely smiles recently.traces? what traces can there be here? there’s no one here. there’s the forest. there are birds screeching amidst fresh, green',\n",
              " 'leaves. a red fox runs leisurely across the path… and everything smells of spring.what are they afraid of?the scoia’tael? but what was there to be afraid of? i’m not frightened of elves. i haven’t done anything to them.elves who kill humans and die in battles themselves. geralt says you have to remain neutral… and yarpen says you have to behave',\n",
              " 'in such a way that you don’t have to ask for forgiveness…the squirrels kill humans. and nilfgaard pays them for it. uses them. incites them. nilfgaard.a witcher looking on indifferently? no! a witcher has to defend people. from the leshy, the vampire, the werewolf. and not',\n",
              " 'only from them. he has to defend people from every evil. and in transriver i saw what evil is.a witcher has to defend and save. to defend men so that they aren’t hung on trees by their hands, aren’t impaled and left',\n",
              " 'to die. to defend fair girls from being spread-eagled between stakes rammed into the ground. defend children so they aren’t',\n",
              " 'slaughtered and thrown into a well. even a cat burned alive in a torched barn deserves to be defended. that’s why i’m going',\n",
              " 'to become a witcher, that’s why i’ve got a sword, to defend people like those in sodden and transriver – because they don’t',\n",
              " 'have swords, don’t know the steps, half-turns, dodges and pirouettes. no one has taught them how to fight, they are defenceless',\n",
              " 'and helpless in face of the werewolf and the nilfgaardian marauder. they’re teaching me to fight so that i can defend the',\n",
              " 'helpless. and that’s what i’m going to do. never will i be neutral. never will i be indifferent.never!just let the horse not neigh,they roam the land, importunate and insolent, nominating themselves the stalkers of evil, vanquishers of werewolves and exterminators',\n",
              " 'of spectres, extorting payment from the gullible and, on receipt of their ignoble earnings, moving on to dispense the same',\n",
              " 'deceit in the near vicinity. the easiest access they find at cottages of honest, simple and unwitting peasants who readily',\n",
              " 'ascribe all misfortune and ill events to spells, unnatural creatures and monsters, the doings of windsprites or evil spirits.',\n",
              " 'instead of praying to the gods, instead of bearing rich offerings to the temple, such a simpleton is ready to give his last',\n",
              " 'penny to the base witcher, believing the witcher, the godless changeling, will turn around his fate and save him from misfortune.monstrum,description of the witcheri have nothing against witchers. let them hunt vampires. as long as they pay taxes.if you thirst for justice, hire a witcher.  …i sleep in a large hall called a dormitorium and my bed is terribly big, i tell you. i’m with the intermediary girls. there',\n",
              " 'are twelve of us but i’m most friendly with eurneid, katye and iola the second. whereas today i ate broth and the worst is',\n",
              " 'that sometimes we have to fast and get up very early at dawn. earlier than in kaer morhen. i will write the rest tomorrow',\n",
              " 'for we shall presently be having prayers. no one ever prayed in kaer morhen, i wonder why we have to here. no doubt because',\n",
              " 'this is a temple.geralt. mother nenneke has read and said i must not write silly things and write clearly without mistakes. and about what',\n",
              " 'i’m studying and that i feel well and healthy. i feel well and am healthy if unfortunately hungry, but soone be dinner. and',\n",
              " 'mother nenneke also said write that prayer has never harmed anybody yet, neither me nor, certainly, you.geralt, i have some free time again, i will write therefore that i am studying. to read and write correct runes. history.',\n",
              " 'nature. poetry and prose. to express myself well in the common speech and in the elder speech. i am best at the elder speech,',\n",
              " 'i can also write elder runes. i will write something for you and you will see for yourself. elaine blath, feainnewedd. that',\n",
              " 'meant: beautiful flower, child of the sun. you see for yourself that i can. and also—now i can write again for i have found a new quill for the old one broke. mother nenneke read this and praised me that it',\n",
              " 'was correct. that i am obedient, she told me to write, and that you should not worry. don’t worry, geralt.again i have some time so i will write what happened. when we were feeding the turkey hens, i, iola and katye, one enormous',\n",
              " 'turkey attacked us, a red neck it had and was terrible horrible. first it attacked iola and then it wanted to attack me but',\n",
              " 'i was not afraid because it was smaller and slower than the pendulum anyway. i dodged and did a pirouette and walloped it',\n",
              " 'twice with a switch until it made off. mother nenneke does not allow me to carry my sword here, a pity, for i would have shown',\n",
              " 'that turkey what i learned in kaer morhen. i already know that in the elder runes it would be written caer a’muirehen and',\n",
              " 'that it means keep of the elder sea. so no doubt that is why there are shells and snails there as well as fish imprinted on',\n",
              " 'the stones. and cintra is correctly written xin’trea. whereas my name comes from zireael for that means swallow and that means',\n",
              " 'that……that means i have an elven name. but i am not, after all, an elf, geralt, there is also talk about the squirrels here. sometimes',\n",
              " 'even the soldiers come and ask questions and say that we must not treat wounded elves. i have not squealed a word to anyone',\n",
              " 'about what happened in spring, don’t worry. and i also remember to practise, don’t think otherwise. i go to the park and train',\n",
              " 'when i have time. but not always, for i also have to work in the kitchen or in the orchard like all the girls. and we also',\n",
              " 'have a terrible amount of studying to do. but never mind, i will study. after all, you too studied in the temple, mother nenneke',\n",
              " 'told me. and she also told me that just any idiot can brandish a sword but a witcher-girl must be wise.geralt, you promised to come. come.your cirips come, come.ps ii. mother nenneke told me to end with praise be to great melitele, may her blessing and favour always go with you. and',\n",
              " 'may nothing happen to you.cirii’d like to go to ellander,but it’s dangerous. i might lead them to— these letters have got to end. nenneke makes use of temple mail but still… damn',\n",
              " 'it, it’s too risky.dear friend…dear friend, your unexpected letter – which i received not quite three years after we last saw each other – has given me much',\n",
              " 'joy. my joy is all the greater as various rumours have been circulating about your sudden and violent death. it is a good',\n",
              " 'thing that you have decided to disclaim them by writing to me; it is a good thing, too, that you are doing so so soon. from',\n",
              " 'your letter it appears that you have lived a peaceful, wonderfully boring life, devoid of all sensation. these days such a',\n",
              " 'life is a real privilege, dear friend, and i am happy that you have managed to achieve it.i was touched by the sudden concern which you deigned to show as to my health, dear friend. i hasten with the news that, yes,',\n",
              " 'i now feel well; the period of indisposition is behind me, i have dealt with the difficulties, the description of which i',\n",
              " 'shall not bore you with.it worries and troubles me very much that the unexpected present you received from fate brings you worries. your supposition',\n",
              " 'that this requires professional help is absolutely correct. although your description of the difficulty – quite understandably',\n",
              " '– is enigmatic, i am sure i know the source of the problem. and i agree with your opinion that the help of yet another magician',\n",
              " 'is absolutely necessary. i feel honoured to be the second to whom you turn. what have i done to deserve to be so high on your',\n",
              " 'list?rest assured, my dear friend; and if you had the intention of supplicating the help of additional magicians, abandon it because',\n",
              " 'there is no need. i leave without delay, and go to the place which you indicated in an oblique yet, to me, understandable',\n",
              " 'way. it goes without saying that i leave in absolute secrecy and with great caution. i will surmise the nature of the trouble',\n",
              " 'on the spot and will do all that is in my power to calm the gushing source. i shall try, in so doing, not to appear any worse',\n",
              " 'than other ladies to whom you have turned, are turning or usually turn with your supplications. i am, after all, your dear',\n",
              " 'friend. your valuable friendship is too important to me to disappoint you, dear friend.should you, in the next few years, wish to write to me, do not hesitate for a moment. your letters invariably give me boundless',\n",
              " 'pleasure.your friend yenneferhyphydridaehyphydridaehyphydridaeamphipodahyphydra longicaudahyphydra marginatapseudohyphydra,mordidaeichthyovorax bumbleriius stapulaeius stapulaead valoremi agree with that last statement entirely,amphipodageraltia maxiliosa pittieveretiaeveretia maxiliosa pittihimmurder is always murder, regardless of motive or circumstance. thus those who murder or who prepare to murder are malefactors',\n",
              " 'and criminals, regardless of who they may be: kings, princes, marshals or judges. none who contemplates and commits violence',\n",
              " 'has the right to consider himself better than an ordinary criminal. because it is in the nature of all violence to lead inevitably',\n",
              " 'to crime.meditations on life, happiness and prosperity  thisi’ve never seen a live unicorn,never. and i probably never will.he doesn’t believe him,he doesn’t believe him and is deluding himself. he is making a great mistake.what a strange dream i had,the first dream for many days. the first where i wasn’t afraid. the first which wasn’t about me. i was an… observer. i saw',\n",
              " 'everything as if from above, from high up… as if i were a bird… a night bird…a dream in which i saw geralt.and i saw them from above. as if i were a bird. a night bird…strange dream,shame i woke up. i’d like to have seen what was going to happen… i’d like to know what they were doing there. where they were',\n",
              " 'going…i’ll fall asleep,i’ll go back to my dream. i’ll see what geralt is doing there, in the night, in the rain, by the canal…if you’re afraid, turn back.that door mustn’t be opened. you know that.i do.but you’re still leading me there.if you’re afraid, turn back. you still have time to turn back. it’s not too late.and you?for me, it is.you have made a mistake. you mistook the stars reflected in the surface of the lake at night for the heavens.dong,dongoh, you cocksure little student,you treacherous creep, you red-haired hussy, i’m going to find you and pay you back… just let me get myself out of this.one ear,one ear i have to endure. then i’ll tell him…if we’ve finished supping, let us go through into the workshop,the chapter will do as he says, disguising his order as advice,we are all pawns on his chess board. he’s moved up, grown, obscured us with his brightness, subordinated us to him. we’re',\n",
              " 'pawns in his game. a game the rules of which we do not know.now you’re going to change tactics,you’re a player, you can hear which way the dice roll on the table. you’re going to change tactics. you’re going to strike',\n",
              " 'a different noteaen ithlinnespeath,aen hen ichaermetal, stone, crystal,are you looking for yennefer? why? and what does she have to do with ithlin’s prophecy? or with the elder blood of the elves?',\n",
              " 'what are you brewing, vilgefortz?i’m sorry,the messenger is waiting for a reply,i understand. i have given orders to prepare chambers for your guests.nowhere,but i’m listening carefully to you. because at some stage you’ll finally mention the thing which really interests you.stone, metal, crystal,fine,if that’s what you want, finefine, murderers,if that’s what you want, that’s what you’ll get.no one is born a wizard. we still know too little about genetics and the mechanisms of heredity. we sacrifice too little time',\n",
              " 'and means on research. unfortunately, we constantly try to pass on inherited magical abilities in, so to say, a natural way.',\n",
              " 'results of these pseudo-experiments can be seen all too often in town gutters and within temple walls. we see too many of',\n",
              " 'them, and too frequently come across morons and women in a catatonic state, dribbling seers who soil themselves, seeresses,',\n",
              " 'village oracles and miracle-workers, cretins whose minds are degenerate due to the inherited, uncontrolled force.these morons and cretins can also have offspring, can pass on abilities and thus degenerate further. is anyone in a position',\n",
              " 'to foresee or describe how the last link in such a chain will look?most of us wizards lose the ability to procreate due to somatic changes and dysfunction of the pituitary gland. some wizards',\n",
              " '– usually women – attune to magic while still maintaining efficiency of the gonads. they can conceive and give birth – and',\n",
              " 'have the audacity to consider this happiness and a blessing. but i repeat: no one is born a wizard. and no one should be born',\n",
              " 'one! conscious of the gravity of what i write, i answer the question posed at the congress in cidaris. i answer most emphatically:',\n",
              " 'each one of us must decide what she wants to be – a wizard or a mother.i demand all apprentices be sterilised. without exception.the poisoned source  the history of warstrategy,the victorious deeds of redania’s gallant cavalrymenhealing and curingthe life and deeds of great king radovidcasus belli—casus belliour first meeting,i remember. i was in the grotto with the other girls. hrosvitha was showing us plants and herbs. then iola the first came',\n",
              " 'in and whispered something in hrosvitha’s ear. the priestess grimaced with animosity. and iola the first came up to me with',\n",
              " 'a strange expression on her faceshe said,strange, meaningful glances, excitement in their eyes. and whispers. yenneferi knew immediately,that it was her. because i’d seen her. i’d seen her the night before. in my dream.her.i didn’t know her name then. she didn’t say anything in my dream. she only looked at me and behind her, in the darkness, i',\n",
              " 'saw a closed door…i’ll escape tonight,back to kaer morhen. i’ll steal a horse from the stables and that’s the last they’ll see of me. i’ll run away!they’re talking quite openly in front of me, without any restraint,they’re not bothered about me at all. ignoring me completely. as if i were a child. they’re talking about geralt in front',\n",
              " 'of me, in my presence, but they can’t because i… i am…who?dialogues on the nature of magic,forces of the elementsnatural magicthe invisible worldthe secret of secretscodex of mirthe, ard aercane,dhu dwimmermorc,the history of the worlda treatise on lifegambolsthe king’s ladiesthe adversities of lovingtime of the moon,the blue pearlthat laughter,that laughter, shared and sincere, really brought us together, her and me. we understood – both she and i – that we can laugh',\n",
              " 'and talk together about him. about geralt. suddenly we became close, although i knew perfectly well that geralt both brought',\n",
              " 'us together and separated us, and that that’s how it would always be.our laughter together brought us closer to each other.as did the events two days later. in the forest, on the hills. she was showing me how to find…she’s going to ask me something in a moment,i can hear her thinking about it. she’s going to ask about something i don’t remember again. or something i don’t want to',\n",
              " 'remember. no, it’s senseless. i’m not going to answer. all of that is in the past, and there’s no returning to the past. she',\n",
              " 'once said so herself.why all this,why these questions, these recollections? there’s no returning to the past. there’s no one there for me any more. not my papa,',\n",
              " 'nor my mama, nor my grandmother, the one who was ard rhena, the lioness of cintra. uncle crach an craite, no doubt, is also',\n",
              " 'dead. i haven’t got anybody any more and am someone else. there’s no returning…i’m not going to answer the next question,dhu dwimmermorcin a minute she’s going to ask why i didn’t like her,no, she’s too clever to ask such a question. she’ll dryly draw my attention to my grammar and ask when i started using the',\n",
              " 'past tense. and i’ll tell her. i’ll be just as dry as she is, i’ll parody her tone of voice, let her know that i, too, can',\n",
              " 'pretend to be cold, unfeeling and indifferent, ashamed of my feelings and emotions. i’ll tell her everything. i want to, i',\n",
              " 'have to tell her everything. i want her to know everything before we leave melitele’s temple. before we part to finally meet',\n",
              " 'the one i miss. the one she misses. the one who no doubt misses us both. i want to tell her that…i’ll tell her. it’s enough for her to ask.    by andrzej sapkowskiyou. you will be the first to grow weak, sorcerer. i will kill you.i will kill you. i’ll kill you. i’ll kill you']"
            ]
          },
          "metadata": {
            "tags": []
          },
          "execution_count": 62
        }
      ]
    },
    {
      "cell_type": "code",
      "metadata": {
        "id": "dVa9nZ-KhjkJ"
      },
      "source": [
        "xs = input_sequences[:,:-1]\n",
        "labels = input_sequences[:,-1]"
      ],
      "execution_count": 63,
      "outputs": []
    },
    {
      "cell_type": "code",
      "metadata": {
        "id": "Gnq1gmHehjkM"
      },
      "source": [
        "ys = tf.keras.utils.to_categorical(labels, num_classes=total_words)"
      ],
      "execution_count": 64,
      "outputs": []
    },
    {
      "cell_type": "code",
      "metadata": {
        "id": "ZrwnyDSEjR7u",
        "outputId": "0d428eff-02dc-459e-f7e6-424e414c26a6",
        "colab": {
          "base_uri": "https://localhost:8080/",
          "height": 136
        }
      },
      "source": [
        "ys"
      ],
      "execution_count": 65,
      "outputs": [
        {
          "output_type": "execute_result",
          "data": {
            "text/plain": [
              "array([[0., 0., 0., ..., 0., 0., 0.],\n",
              "       [0., 0., 0., ..., 0., 0., 0.],\n",
              "       [0., 0., 1., ..., 0., 0., 0.],\n",
              "       ...,\n",
              "       [0., 0., 0., ..., 0., 0., 0.],\n",
              "       [0., 0., 0., ..., 0., 0., 0.],\n",
              "       [0., 0., 0., ..., 0., 0., 0.]], dtype=float32)"
            ]
          },
          "metadata": {
            "tags": []
          },
          "execution_count": 65
        }
      ]
    },
    {
      "cell_type": "code",
      "metadata": {
        "id": "yx2C5sGThjkQ"
      },
      "source": [
        "model = tf.keras.Sequential(\n",
        "[\n",
        "    tf.keras.layers.Embedding(total_words, 100, input_length=longest-1),\n",
        "    tf.keras.layers.Bidirectional(tf.keras.layers.LSTM(64, return_sequences=True)),\n",
        "    tf.keras.layers.Bidirectional(tf.keras.layers.LSTM(150)),\n",
        "    tf.keras.layers.Dense(64, activation='relu'),\n",
        "    tf.keras.layers.Dense(total_words,activation='softmax')\n",
        "])"
      ],
      "execution_count": 66,
      "outputs": []
    },
    {
      "cell_type": "code",
      "metadata": {
        "id": "PXS2AnERhjkW"
      },
      "source": [
        "model.compile(loss='categorical_crossentropy', optimizer='adam', metrics=['accuracy'])"
      ],
      "execution_count": 67,
      "outputs": []
    },
    {
      "cell_type": "code",
      "metadata": {
        "id": "4H4NSCs3hjka",
        "outputId": "84a8e83e-6d1b-4b40-fe58-8144bebe2de1",
        "colab": {
          "base_uri": "https://localhost:8080/",
          "height": 153
        }
      },
      "source": [
        "history = model.fit(xs,ys, epochs=100, verbose=1)"
      ],
      "execution_count": null,
      "outputs": [
        {
          "output_type": "stream",
          "text": [
            "Epoch 1/100\n",
            "120/120 [==============================] - 213s 2s/step - loss: 6.1617 - accuracy: 0.0448\n",
            "Epoch 2/100\n",
            "120/120 [==============================] - 213s 2s/step - loss: 5.6288 - accuracy: 0.0526\n",
            "Epoch 3/100\n",
            "120/120 [==============================] - 213s 2s/step - loss: 5.5276 - accuracy: 0.0532\n",
            "Epoch 4/100\n",
            "110/120 [==========================>...] - ETA: 17s - loss: 5.4658 - accuracy: 0.0543"
          ],
          "name": "stdout"
        }
      ]
    },
    {
      "cell_type": "code",
      "metadata": {
        "id": "NikkiZMuhjke"
      },
      "source": [
        "import matplotlib.pyplot as plt\n",
        "def plot_graphs(history, string):\n",
        "    plt.plot(history.history[string])\n",
        "    plt.xlabel('Epochs')\n",
        "    plt.ylabel(string)\n",
        "    plt.show()\n"
      ],
      "execution_count": null,
      "outputs": []
    },
    {
      "cell_type": "code",
      "metadata": {
        "id": "ANS8ePDdIVBE",
        "outputId": "57daeb8a-e1dd-4f28-a37d-5d8cbf442a3d",
        "colab": {
          "base_uri": "https://localhost:8080/",
          "height": 279
        }
      },
      "source": [
        "plot_graphs(history,'accuracy')"
      ],
      "execution_count": null,
      "outputs": [
        {
          "output_type": "display_data",
          "data": {
            "image/png": "[encoded data removed]",
            "text/plain": [
              "<Figure size 432x288 with 1 Axes>"
            ]
          },
          "metadata": {
            "tags": [],
            "needs_background": "light"
          }
        }
      ]
    },
    {
      "cell_type": "code",
      "metadata": {
        "id": "xjyKRWG6hjkh"
      },
      "source": [
        "seed_text = \"I say unto you\"\n",
        "next_words = 50\n",
        "for _ in range(next_words):\n",
        "    token_list = tokenizer.texts_to_sequences([seed_text])[0]\n",
        "    token_list = pad_sequences([token_list], maxlen=longest-1, padding='pre')\n",
        "    predicted = model.predict_classes(token_list,verbose=0)\n",
        "    output_words= \"\"\n",
        "    for word , index in tokenizer.word_index.items():\n",
        "        if index == predicted:\n",
        "            output_words = word\n",
        "            break\n",
        "    seed_text += \" \"+ output_words\n",
        "            "
      ],
      "execution_count": null,
      "outputs": []
    },
    {
      "cell_type": "code",
      "metadata": {
        "id": "LWwFMqhwhjkk"
      },
      "source": [
        "model.save('m.h5')"
      ],
      "execution_count": null,
      "outputs": []
    },
    {
      "cell_type": "code",
      "metadata": {
        "id": "rQWtH2mrhjkn",
        "outputId": "bb3e78b5-3f01-45e6-b07a-43825fc866f2",
        "colab": {
          "base_uri": "https://localhost:8080/",
          "height": 54
        }
      },
      "source": [
        "tokenizer.word_index.items()\n"
      ],
      "execution_count": null,
      "outputs": [
        {
          "output_type": "execute_result",
          "data": {
            "text/plain": [
              "dict_items([('<OOV>', 1), ('the', 2), ('and', 3), ('to', 4), ('i', 5), ('of', 6), ('a', 7), ('you', 8), ('in', 9), ('that', 10), ('is', 11), ('me', 12), ('be', 13), ('it', 14), ('have', 15), ('not', 16), ('for', 17), ('as', 18), ('will', 19), ('no', 20), ('they', 21), ('with', 22), ('her', 23), ('on', 24), ('one', 25), ('what', 26), ('all', 27), ('we', 28), ('there', 29), ('which', 30), ('but', 31), ('from', 32), ('my', 33), ('don’t', 34), ('can', 35), ('she', 36), ('so', 37), ('i’m', 38), ('at', 39), ('are', 40), ('your', 41), ('his', 42), ('was', 43), ('who', 44), ('about', 45), ('if', 46), ('–', 47), ('were', 48), ('them', 49), ('geralt', 50), ('or', 51), ('has', 52), ('like', 53), ('us', 54), ('he', 55), ('this', 56), ('too', 57), ('i’ll', 58), ('going', 59), ('know', 60), ('write', 61), ('time', 62), ('child', 63), ('did', 64), ('see', 65), ('without', 66), ('never', 67), ('witcher', 68), ('do', 69), ('want', 70), ('it’s', 71), ('why', 72), ('that’s', 73), ('into', 74), ('well', 75), ('by', 76), ('little', 77), ('because', 78), ('am', 79), ('also', 80), ('an', 81), ('ask', 82), ('these', 83), ('first', 84), ('there’s', 85), ('such', 86), ('kaer', 87), ('morhen', 88), ('their', 89), ('more', 90), ('tell', 91), ('even', 92), ('seen', 93), ('saw', 94), ('you’re', 95), ('elves', 96), ('elder', 97), ('come', 98), ('after', 99), ('had', 100), ('him', 101), ('back', 102), ('eyes', 103), ('must', 104), ('how', 105), ('then', 106), ('something', 107), ('afraid', 108), ('everything', 109), ('defend', 110), ('sword', 111), ('help', 112), ('where', 113), ('just', 114), ('go', 115), ('here', 116), ('turn', 117), ('they’re', 118), ('dear', 119), ('mother', 120), ('nenneke', 121), ('friend', 122), ('dream', 123), ('last', 124), ('blood', 125), ('fear', 126), ('can’t', 127), ('before', 128), ('again', 129), ('nature', 130), ('day', 131), ('life', 132), ('girl', 133), ('should', 134), ('those', 135), ('ciri', 136), ('wizard', 137), ('would', 138), ('some', 139), ('feel', 140), ('let', 141), ('think', 142), ('magician', 143), ('out', 144), ('than', 145), ('other', 146), ('kill', 147), ('temple', 148), ('say', 149), ('white', 150), ('world', 151), ('been', 152), ('shall', 153), ('does', 154), ('hear', 155), ('very', 156), ('when', 157), ('now', 158), ('witchers', 159), ('only', 160), ('always', 161), ('told', 162), ('may', 163), ('up', 164), ('away', 165), ('although', 166), ('get', 167), ('forget', 168), ('remember', 169), ('secret', 170), ('give', 171), ('got', 172), ('once', 173), ('aren’t', 174), ('anything', 175), ('together', 176), ('way', 177), ('iola', 178), ('means', 179), ('any', 180), ('night', 181), ('amidst', 182), ('anyone', 183), ('strange', 184), ('things', 185), ('red', 186), ('place', 187), ('description', 188), ('tower', 189), ('today', 190), ('i’ve', 191), ('yourself', 192), ('themselves', 193), ('given', 194), ('magic', 195), ('she’s', 196), ('trust', 197), ('could', 198), ('source', 199), ('days', 200), ('nor', 201), ('triss', 202), ('find', 203), ('name', 204), ('yet', 205), ('our', 206), ('pah', 207), ('spring', 208), ('horse', 209), ('didn’t', 210), ('evil', 211), ('girls', 212), ('doubt', 213), ('said', 214), ('great', 215), ('doing', 216), ('i’d', 217), ('still', 218), ('answer', 219), ('past', 220), ('end', 221), ('die', 222), ('reborn', 223), ('new', 224), ('thus', 225), ('watch', 226), ('doesn’t', 227), ('helpless', 228), ('force', 229), ('music', 230), ('dead', 231), ('frightened', 232), ('found', 233), ('took', 234), ('thought', 235), ('instead', 236), ('terrible', 237), ('old', 238), ('full', 239), ('front', 240), ('nothing', 241), ('men', 242), ('surface', 243), ('stupidity', 244), ('happiness', 245), ('fanatics', 246), ('long', 247), ('gods', 248), ('wizards', 249), ('work', 250), ('events', 251), ('much', 252), ('sleep', 253), ('myself', 254), ('wasn’t', 255), ('excited', 256), ('you’ve', 257), ('happened', 258), ('different', 259), ('grasses', 260), ('changes', 261), ('children', 262), ('herbs', 263), ('probably', 264), ('feeding', 265), ('absolutely', 266), ('turned', 267), ('whom', 268), ('questions', 269), ('save', 270), ('male', 271), ('sudden', 272), ('cold', 273), ('finally', 274), ('came', 275), ('moment', 276), ('looking', 277), ('word', 278), ('good', 279), ('elf', 280), ('sharp', 281), ('across', 282), ('further', 283), ('traces', 284), ('done', 285), ('says', 286), ('people', 287), ('most', 288), ('read', 289), ('studying', 290), ('correct', 291), ('runes', 292), ('history', 293), ('speech', 294), ('worry', 295), ('turkey', 296), ('quite', 297), ('each', 298), ('thing', 299), ('leave', 300), ('murder', 301), ('ear', 302), ('born', 303), ('question', 304), ('laughter', 305), ('brought', 306), ('both', 307), ('unto', 308), ('era', 309), ('nigh', 310), ('madness', 311), ('sun', 312), ('hen', 313), ('seed', 314), ('signs', 315), ('earth', 316), ('aen', 317), ('prophecy', 318), ('hold', 319), ('weak', 320), ('terrified', 321), ('princess', 322), ('legend', 323), ('town', 324), ('while', 325), ('wonder', 326), ('live', 327), ('left', 328), ('number', 329), ('face', 330), ('being', 331), ('castle', 332), ('dreadful', 333), ('hide', 334), ('ous', 335), ('monsters', 336), ('contrary', 337), ('offspring', 338), ('foul', 339), ('true', 340), ('killing', 341), ('honest', 342), ('practices', 343), ('monstrum', 344), ('stupid', 345), ('common', 346), ('eternal', 347), ('seas', 348), ('remain', 349), ('meditations', 350), ('prosperity', 351), ('understand', 352), ('words', 353), ('mutant', 354), ('need', 355), ('half', 356), ('birth', 357), ('meant', 358), ('completely', 359), ('disappear', 360), ('wind', 361), ('constantly', 362), ('right', 363), ('best', 364), ('worst', 365), ('over', 366), ('worse', 367), ('course', 368), ('expression', 369), ('expressions', 370), ('fair', 371), ('amount', 372), ('silly', 373), ('real', 374), ('clear', 375), ('mutate', 376), ('subject', 377), ('trial', 378), ('knows', 379), ('perhaps', 380), ('tried', 381), ('use', 382), ('might', 383), ('mean…', 384), ('living', 385), ('learned', 386), ('famous', 387), ('mysterious', 388), ('mutation', 389), ('own', 390), ('haired', 391), ('soon', 392), ('surprise', 393), ('developing', 394), ('show', 395), ('swift', 396), ('near', 397), ('moving', 398), ('managed', 399), ('steal', 400), ('“mushrooms”', 401), ('death', 402), ('keeping', 403), ('friendship', 404), ('bring', 405), ('ha', 406), ('started', 407), ('almost', 408), ('maybe', 409), ('realised', 410), ('single', 411), ('friendly', 412), ('apart', 413), ('yennefer', 414), ('why…', 415), ('master', 416), ('enough', 417), ('look', 418), ('head', 419), ('better', 420), ('ashamed', 421), ('shame', 422), ('hitherto', 423), ('hands', 424), ('brandish', 425), ('quill', 426), ('grew', 427), ('sweat', 428), ('skin', 429), ('through', 430), ('return', 431), ('entirely', 432), ('became', 433), ('two', 434), ('dry', 435), ('fast', 436), ('opened', 437), ('suggestion', 438), ('triiiss', 439), ('seemed', 440), ('later', 441), ('water', 442), ('already', 443), ('suddenly', 444), ('close', 445), ('alien', 446), ('pahpah', 447), ('gallop', 448), ('waiting', 449), ('report', 450), ('blue', 451), ('yarpen', 452), ('smile', 453), ('forest', 454), ('haven’t', 455), ('humans', 456), ('squirrels', 457), ('nilfgaard', 458), ('werewolf', 459), ('transriver', 460), ('fight', 461), ('indifferent', 462), ('misfortune', 463), ('fate', 464), ('pay', 465), ('katye', 466), ('second', 467), ('whereas', 468), ('sometimes', 469), ('rest', 470), ('healthy', 471), ('unfortunately', 472), ('anybody', 473), ('attacked', 474), ('made', 475), ('written', 476), ('cintra', 477), ('talk', 478), ('blessing', 479), ('lead', 480), ('letters', 481), ('unexpected', 482), ('letter', 483), ('received', 484), ('years', 485), ('joy', 486), ('behind', 487), ('worries', 488), ('agree', 489), ('high', 490), ('try', 491), ('usually', 492), ('next', 493), ('maxiliosa', 494), ('regardless', 495), ('prepare', 496), ('violence', 497), ('consider', 498), ('himself', 499), ('believe', 500), ('mistake', 501), ('many', 502), ('above', 503), ('pawns', 504), ('game', 505), ('change', 506), ('tactics', 507), ('stone', 508), ('crystal', 509), ('you’ll', 510), ('really', 511), ('pass', 512), ('inherited', 513), ('abilities', 514), ('morons', 515), ('women', 516), ('cretins', 517), ('degenerate', 518), ('due', 519), ('deeds', 520), ('showing', 521), ('knew', 522), ('talking', 523), ('ard', 524), ('dhu', 525), ('returning', 526), ('misses', 527), ('politykasfxblood', 528), ('wishblood', 529), ('verily', 530), ('axe', 531), ('wolf’s', 532), ('blizzard', 533), ('chill', 534), ('light', 535), ('contempt', 536), ('tedd', 537), ('deireádh', 538), ('frost', 539), ('ichaer', 540), ('sown', 541), ('sprout', 542), ('burst', 543), ('flame', 544), ('ess’tuath', 545), ('esse', 546), ('flow', 547), ('seidhe', 548), ('elves…ithlinne', 549), ('aegli', 550), ('aep', 551), ('aevenien’s', 552), ('alone', 553), ('move', 554), ('sound', 555), ('constricted', 556), ('throat', 557), ('rustling', 558), ('trees…', 559), ('lute', 560), ('voices', 561), ('cintra…', 562), ('destiny…', 563), ('rivia', 564), ('wolf', 565), ('destiny', 566), ('poet’s', 567), ('invention', 568), ('killed', 569), ('streets', 570), ('trying', 571), ('escapehold', 572), ('holdme', 573), ('year', 574), ('vengerberg', 575), ('instilled', 576), ('himno', 577), ('human', 578), ('wouldn’t', 579), ('passed…', 580), ('home', 581), ('dark', 582), ('ruined', 583), ('rats', 584), ('echoes…', 585), ('standing', 586), ('wall', 587), ('fire', 588), ('sinister', 589), ('black', 590), ('figures', 591), ('menacing', 592), ('glistening', 593), ('staring', 594), ('me—verily', 595), ('known', 596), ('sorcery', 597), ('devilry', 598), ('rogues', 599), ('virtue', 600), ('conscience', 601), ('scruple', 602), ('diabolic', 603), ('creations', 604), ('fit', 605), ('infamous', 606), ('beings', 607), ('nestle', 608), ('perform', 609), ('wiped', 610), ('trace', 611), ('strewn', 612), ('salt', 613), ('saltpetre', 614), ('witcherintolerance', 615), ('superstition', 616), ('domain', 617), ('amongst', 618), ('folk', 619), ('conjecture', 620), ('uprooted', 621), ('itself', 622), ('mountains', 623), ('surge', 624), ('deserts', 625), ('trained', 626), ('undergone', 627), ('mutations', 628), ('massacre', 629), ('prospect', 630), ('describing', 631), ('screamed', 632), ('marched', 633), ('ago', 634), ('monster', 635), ('freak', 636), ('damned', 637), ('creature', 638), ('blame', 639), ('telling', 640), ('shan’t', 641), ('either', 642), ('reason', 643), ('silent', 644), ('aid', 645), ('conquered', 646), ('lampoon', 647), ('widely', 648), ('distributedwhich', 649), ('stirred', 650), ('drove', 651), ('wickedness', 652), ('apparently', 653), ('wizard’s', 654), ('anonymous', 655), ('recognise', 656), ('collective', 657), ('responsibility', 658), ('expiate', 659), ('century', 660), ('skeletons', 661), ('serve', 662), ('reminder', 663), ('ultimately', 664), ('rot', 665), ('disintegrate', 666), ('dust', 667), ('forgotten', 668), ('whips', 669), ('mountainsideha', 670), ('truth', 671), ('guessed', 672), ('correctlyin', 673), ('vesemir', 674), ('appearances', 675), ('matter', 676), ('beds', 677), ('prefer', 678), ('control', 679), ('behaving', 680), ('adolescent', 681), ('maid', 682), ('deprived', 683), ('affection', 684), ('logically', 685), ('stable', 686), ('kid', 687), ('foolish', 688), ('contrite', 689), ('embarrassed', 690), ('regret', 691), ('fool', 692), ('experience', 693), ('about…about', 694), ('she…', 695), ('yesthe', 696), ('ash', 697), ('blonde', 698), ('machine', 699), ('obvious', 700), ('itwho', 701), ('concoctions', 702), ('prepared', 703), ('learn', 704), ('virus', 705), ('cultures', 706), ('renowned', 707), ('recipes…and', 708), ('elixirs', 709), ('eyes…watch', 710), ('ashen', 711), ('dieoh', 712), ('price', 713), ('besides', 714), ('talked', 715), ('supper', 716), ('gossiped', 717), ('guide', 718), ('conversation', 719), ('several', 720), ('times', 721), ('avail', 722), ('changed', 723), ('legendary', 724), ('cave', 725), ('saprophytes', 726), ('mountain', 727), ('plant', 728), ('unknown', 729), ('science', 730), ('giving', 731), ('infusions', 732), ('drink', 733), ('quickly', 734), ('acquiring', 735), ('witcher’s', 736), ('infernal', 737), ('fitness', 738), ('naturally', 739), ('risk', 740), ('hormonal', 741), ('upheaval', 742), ('kept', 743), ('ran', 744), ('danced', 745), ('beam', 746), ('agile', 747), ('dancer’s', 748), ('feline', 749), ('grace', 750), ('acrobat', 751), ('body', 752), ('under', 753), ('influence', 754), ('whatever', 755), ('samples', 756), ('“salads”', 757), ('take', 758), ('well…and', 759), ('fig', 760), ('cancer', 761), ('smallpox', 762), ('tetanus', 763), ('leukaemia', 764), ('allergies', 765), ('cot', 766), ('distilled', 767), ('saving', 768), ('medicines', 769), ('hidden', 770), ('others', 771), ('declare', 772), ('respect', 773), ('forbidden', 774), ('laboratorium', 775), ('bloody', 776), ('mushrooms', 777), ('scared', 778), ('“withdrew”', 779), ('daydream', 780), ('prophesy', 781), ('gave', 782), ('aura', 783), ('sense', 784), ('automatically', 785), ('reached', 786), ('psychokinetically', 787), ('bent', 788), ('pewter', 789), ('spoon', 790), ('stared', 791), ('during', 792), ('lunch', 793), ('answered', 794), ('yourselves', 795), ('felt', 796), ('surprising', 797), ('imagined', 798), ('manage', 799), ('and…and', 800), ('aha', 801), ('predictable', 802), ('ciri’s', 803), ('short', 804), ('tunic', 805), ('cut', 806), ('knife', 807), ('sewn', 808), ('arrow', 809), ('duplicity', 810), ('character', 811), ('flaw', 812), ('sincerity', 813), ('third', 814), ('died', 815), ('barely', 816), ('ten', 817), ('agitated', 818), ('fell', 819), ('deep', 820), ('stupor', 821), ('glassy', 822), ('gaze', 823), ('incessantly', 824), ('clutch', 825), ('clothing', 826), ('air', 827), ('desirous', 828), ('catching', 829), ('breathing', 830), ('loud', 831), ('hoarse', 832), ('clammy', 833), ('malodorous', 834), ('appeared', 835), ('elixir', 836), ('vein', 837), ('seizure', 838), ('nose', 839), ('bleed', 840), ('ensue', 841), ('coughing', 842), ('vomiting', 843), ('weakened', 844), ('inert', 845), ('symptoms', 846), ('subside', 847), ('child’s', 848), ('drenched', 849), ('hot', 850), ('pulse', 851), ('ceased', 852), ('firm', 853), ('albeit', 854), ('remaining', 855), ('average', 856), ('strength', 857), ('slow', 858), ('rather', 859), ('wake', 860), ('scream', 861), ('seventh', 862), ('awoke', 863), ('viper…the', 864), ('isforce', 865), ('seagull', 866), ('triiss', 867), ('torture', 868), ('trisss', 869), ('nothing’s', 870), ('rightupriver', 871), ('towns', 872), ('delicate', 873), ('woven', 874), ('morning', 875), ('mist', 876), ('loomed', 877), ('blown', 878), ('rippled', 879), ('palaces', 880), ('nenuphar', 881), ('flowers', 882), ('towers', 883), ('though', 884), ('plaited', 885), ('ivy', 886), ('bridges', 887), ('airy', 888), ('weeping', 889), ('willows', 890), ('names', 891), ('beheld', 892), ('far', 893), ('recesses', 894), ('memories', 895), ('dragons', 896), ('griffins', 897), ('mermaids', 898), ('nymphs', 899), ('sylphs', 900), ('dryads', 901), ('unicorns', 902), ('drank', 903), ('river', 904), ('dusk', 905), ('inclining', 906), ('slender', 907), ('necks', 908), ('towards', 909), ('named', 910), ('hearts', 911), ('familiar', 912), ('ours', 913), ('resembling', 914), ('strangeness', 915), ('humansa', 916), ('younotyoupah', 917), ('exactly', 918), ('thirteen', 919), ('chestnut', 920), ('beneath', 921), ('bit', 922), ('safety', 923), ('entire', 924), ('convoy', 925), ('depends', 926), ('impatiently', 927), ('passable', 928), ('wheels', 929), ('hooves', 930), ('thin', 931), ('wenck', 932), ('nod', 933), ('gravely', 934), ('zigrin', 935), ('bare', 936), ('yellow', 937), ('teeth', 938), ('paulie', 939), ('dahlberg', 940), ('shout', 941), ('“well', 942), ('’', 943), ('faintly', 944), ('he’ll', 945), ('rarely', 946), ('smiles', 947), ('recently', 948), ('birds', 949), ('screeching', 950), ('fresh', 951), ('green', 952), ('leaves', 953), ('fox', 954), ('runs', 955), ('leisurely', 956), ('path…', 957), ('smells', 958), ('scoia’tael', 959), ('battles', 960), ('neutral…', 961), ('behave', 962), ('forgiveness…the', 963), ('pays', 964), ('uses', 965), ('incites', 966), ('indifferently', 967), ('leshy', 968), ('vampire', 969), ('every', 970), ('hung', 971), ('trees', 972), ('impaled', 973), ('spread', 974), ('eagled', 975), ('between', 976), ('stakes', 977), ('rammed', 978), ('ground', 979), ('slaughtered', 980), ('thrown', 981), ('cat', 982), ('burned', 983), ('alive', 984), ('torched', 985), ('barn', 986), ('deserves', 987), ('defended', 988), ('become', 989), ('sodden', 990), ('swords', 991), ('steps', 992), ('turns', 993), ('dodges', 994), ('pirouettes', 995), ('taught', 996), ('defenceless', 997), ('nilfgaardian', 998), ('marauder', 999), ('teaching', 1000), ('neutral', 1001), ('neigh', 1002), ('roam', 1003), ('land', 1004), ('importunate', 1005), ('insolent', 1006), ('nominating', 1007), ('stalkers', 1008), ('vanquishers', 1009), ('werewolves', 1010), ('exterminators', 1011), ('spectres', 1012), ('extorting', 1013), ('payment', 1014), ('gullible', 1015), ('receipt', 1016), ('ignoble', 1017), ('earnings', 1018), ('dispense', 1019), ('same', 1020), ('deceit', 1021), ('vicinity', 1022), ('easiest', 1023), ('access', 1024), ('cottages', 1025), ('simple', 1026), ('unwitting', 1027), ('peasants', 1028), ('readily', 1029), ('ascribe', 1030), ('ill', 1031), ('spells', 1032), ('unnatural', 1033), ('creatures', 1034), ('doings', 1035), ('windsprites', 1036), ('spirits', 1037), ('praying', 1038), ('bearing', 1039), ('rich', 1040), ('offerings', 1041), ('simpleton', 1042), ('ready', 1043), ('penny', 1044), ('base', 1045), ('believing', 1046), ('godless', 1047), ('changeling', 1048), ('around', 1049), ('witcheri', 1050), ('against', 1051), ('hunt', 1052), ('vampires', 1053), ('taxes', 1054), ('thirst', 1055), ('justice', 1056), ('hire', 1057), ('…i', 1058), ('large', 1059), ('hall', 1060), ('called', 1061), ('dormitorium', 1062), ('bed', 1063), ('terribly', 1064), ('big', 1065), ('intermediary', 1066), ('twelve', 1067), ('eurneid', 1068), ('ate', 1069), ('broth', 1070), ('early', 1071), ('dawn', 1072), ('earlier', 1073), ('tomorrow', 1074), ('presently', 1075), ('having', 1076), ('prayers', 1077), ('ever', 1078), ('prayed', 1079), ('clearly', 1080), ('mistakes', 1081), ('hungry', 1082), ('soone', 1083), ('dinner', 1084), ('prayer', 1085), ('harmed', 1086), ('neither', 1087), ('certainly', 1088), ('free', 1089), ('therefore', 1090), ('poetry', 1091), ('prose', 1092), ('express', 1093), ('elaine', 1094), ('blath', 1095), ('feainnewedd', 1096), ('beautiful', 1097), ('flower', 1098), ('also—now', 1099), ('broke', 1100), ('praised', 1101), ('obedient', 1102), ('hens', 1103), ('enormous', 1104), ('neck', 1105), ('horrible', 1106), ('wanted', 1107), ('attack', 1108), ('smaller', 1109), ('slower', 1110), ('pendulum', 1111), ('anyway', 1112), ('dodged', 1113), ('pirouette', 1114), ('walloped', 1115), ('twice', 1116), ('switch', 1117), ('until', 1118), ('off', 1119), ('allow', 1120), ('carry', 1121), ('pity', 1122), ('shown', 1123), ('caer', 1124), ('a’muirehen', 1125), ('keep', 1126), ('sea', 1127), ('shells', 1128), ('snails', 1129), ('fish', 1130), ('imprinted', 1131), ('stones', 1132), ('correctly', 1133), ('xin’trea', 1134), ('comes', 1135), ('zireael', 1136), ('swallow', 1137), ('that……that', 1138), ('elven', 1139), ('soldiers', 1140), ('treat', 1141), ('wounded', 1142), ('squealed', 1143), ('practise', 1144), ('otherwise', 1145), ('park', 1146), ('train', 1147), ('kitchen', 1148), ('orchard', 1149), ('mind', 1150), ('study', 1151), ('studied', 1152), ('idiot', 1153), ('wise', 1154), ('promised', 1155), ('cirips', 1156), ('ps', 1157), ('ii', 1158), ('praise', 1159), ('melitele', 1160), ('favour', 1161), ('happen', 1162), ('cirii’d', 1163), ('ellander', 1164), ('dangerous', 1165), ('to—', 1166), ('makes', 1167), ('mail', 1168), ('still…', 1169), ('damn', 1170), ('risky', 1171), ('friend…dear', 1172), ('three', 1173), ('greater', 1174), ('various', 1175), ('rumours', 1176), ('circulating', 1177), ('violent', 1178), ('decided', 1179), ('disclaim', 1180), ('writing', 1181), ('appears', 1182), ('lived', 1183), ('peaceful', 1184), ('wonderfully', 1185), ('boring', 1186), ('devoid', 1187), ('sensation', 1188), ('privilege', 1189), ('happy', 1190), ('achieve', 1191), ('touched', 1192), ('concern', 1193), ('deigned', 1194), ('health', 1195), ('hasten', 1196), ('news', 1197), ('yes', 1198), ('period', 1199), ('indisposition', 1200), ('dealt', 1201), ('difficulties', 1202), ('bore', 1203), ('troubles', 1204), ('present', 1205), ('brings', 1206), ('supposition', 1207), ('requires', 1208), ('professional', 1209), ('difficulty', 1210), ('understandably', 1211), ('enigmatic', 1212), ('sure', 1213), ('problem', 1214), ('opinion', 1215), ('another', 1216), ('necessary', 1217), ('honoured', 1218), ('deserve', 1219), ('list', 1220), ('assured', 1221), ('intention', 1222), ('supplicating', 1223), ('additional', 1224), ('magicians', 1225), ('abandon', 1226), ('delay', 1227), ('indicated', 1228), ('oblique', 1229), ('understandable', 1230), ('goes', 1231), ('saying', 1232), ('absolute', 1233), ('secrecy', 1234), ('caution', 1235), ('surmise', 1236), ('trouble', 1237), ('spot', 1238), ('power', 1239), ('calm', 1240), ('gushing', 1241), ('appear', 1242), ('ladies', 1243), ('turning', 1244), ('supplications', 1245), ('valuable', 1246), ('important', 1247), ('disappoint', 1248), ('few', 1249), ('wish', 1250), ('hesitate', 1251), ('invariably', 1252), ('boundless', 1253), ('pleasure', 1254), ('yenneferhyphydridaehyphydridaehyphydridaeamphipodahyphydra', 1255), ('longicaudahyphydra', 1256), ('marginatapseudohyphydra', 1257), ('mordidaeichthyovorax', 1258), ('bumbleriius', 1259), ('stapulaeius', 1260), ('stapulaead', 1261), ('valoremi', 1262), ('statement', 1263), ('amphipodageraltia', 1264), ('pittieveretiaeveretia', 1265), ('pittihimmurder', 1266), ('motive', 1267), ('circumstance', 1268), ('malefactors', 1269), ('criminals', 1270), ('kings', 1271), ('princes', 1272), ('marshals', 1273), ('judges', 1274), ('none', 1275), ('contemplates', 1276), ('commits', 1277), ('ordinary', 1278), ('criminal', 1279), ('inevitably', 1280), ('crime', 1281), ('thisi’ve', 1282), ('unicorn', 1283), ('deluding', 1284), ('making', 1285), ('an…', 1286), ('observer', 1287), ('up…', 1288), ('bird…', 1289), ('bird…a', 1290), ('bird', 1291), ('bird…strange', 1292), ('woke', 1293), ('happen…', 1294), ('going…i’ll', 1295), ('fall', 1296), ('asleep', 1297), ('rain', 1298), ('canal…if', 1299), ('door', 1300), ('mustn’t', 1301), ('leading', 1302), ('late', 1303), ('mistook', 1304), ('stars', 1305), ('reflected', 1306), ('lake', 1307), ('heavens', 1308), ('dong', 1309), ('dongoh', 1310), ('cocksure', 1311), ('student', 1312), ('treacherous', 1313), ('creep', 1314), ('hussy', 1315), ('back…', 1316), ('endure', 1317), ('him…if', 1318), ('we’ve', 1319), ('finished', 1320), ('supping', 1321), ('workshop', 1322), ('chapter', 1323), ('disguising', 1324), ('order', 1325), ('advice', 1326), ('chess', 1327), ('board', 1328), ('he’s', 1329), ('moved', 1330), ('grown', 1331), ('obscured', 1332), ('brightness', 1333), ('subordinated', 1334), ('we’re', 1335), ('rules', 1336), ('player', 1337), ('dice', 1338), ('roll', 1339), ('table', 1340), ('strike', 1341), ('noteaen', 1342), ('ithlinnespeath', 1343), ('ichaermetal', 1344), ('ithlin’s', 1345), ('brewing', 1346), ('vilgefortz', 1347), ('sorry', 1348), ('messenger', 1349), ('reply', 1350), ('orders', 1351), ('chambers', 1352), ('guests', 1353), ('nowhere', 1354), ('listening', 1355), ('carefully', 1356), ('stage', 1357), ('mention', 1358), ('interests', 1359), ('metal', 1360), ('fine', 1361), ('finefine', 1362), ('murderers', 1363), ('genetics', 1364), ('mechanisms', 1365), ('heredity', 1366), ('sacrifice', 1367), ('research', 1368), ('magical', 1369), ('natural', 1370), ('results', 1371), ('pseudo', 1372), ('experiments', 1373), ('often', 1374), ('gutters', 1375), ('within', 1376), ('walls', 1377), ('frequently', 1378), ('catatonic', 1379), ('state', 1380), ('dribbling', 1381), ('seers', 1382), ('soil', 1383), ('seeresses', 1384), ('village', 1385), ('oracles', 1386), ('miracle', 1387), ('workers', 1388), ('whose', 1389), ('minds', 1390), ('uncontrolled', 1391), ('position', 1392), ('foresee', 1393), ('describe', 1394), ('link', 1395), ('chain', 1396), ('lose', 1397), ('ability', 1398), ('procreate', 1399), ('somatic', 1400), ('dysfunction', 1401), ('pituitary', 1402), ('gland', 1403), ('attune', 1404), ('maintaining', 1405), ('efficiency', 1406), ('gonads', 1407), ('conceive', 1408), ('audacity', 1409), ('repeat', 1410), ('conscious', 1411), ('gravity', 1412), ('posed', 1413), ('congress', 1414), ('cidaris', 1415), ('emphatically', 1416), ('decide', 1417), ('wants', 1418), ('demand', 1419), ('apprentices', 1420), ('sterilised', 1421), ('exception', 1422), ('poisoned', 1423), ('warstrategy', 1424), ('victorious', 1425), ('redania’s', 1426), ('gallant', 1427), ('cavalrymenhealing', 1428), ('curingthe', 1429), ('king', 1430), ('radovidcasus', 1431), ('belli—casus', 1432), ('belliour', 1433), ('meeting', 1434), ('grotto', 1435), ('hrosvitha', 1436), ('plants', 1437), ('whispered', 1438), ('hrosvitha’s', 1439), ('priestess', 1440), ('grimaced', 1441), ('animosity', 1442), ('faceshe', 1443), ('meaningful', 1444), ('glances', 1445), ('excitement', 1446), ('whispers', 1447), ('yenneferi', 1448), ('immediately', 1449), ('looked', 1450), ('darkness', 1451), ('closed', 1452), ('door…i’ll', 1453), ('escape', 1454), ('tonight', 1455), ('stables', 1456), ('they’ll', 1457), ('run', 1458), ('openly', 1459), ('restraint', 1460), ('bothered', 1461), ('ignoring', 1462), ('presence', 1463), ('i…', 1464), ('am…who', 1465), ('dialogues', 1466), ('forces', 1467), ('elementsnatural', 1468), ('magicthe', 1469), ('invisible', 1470), ('worldthe', 1471), ('secretscodex', 1472), ('mirthe', 1473), ('aercane', 1474), ('dwimmermorc', 1475), ('worlda', 1476), ('treatise', 1477), ('lifegambolsthe', 1478), ('king’s', 1479), ('ladiesthe', 1480), ('adversities', 1481), ('lovingtime', 1482), ('moon', 1483), ('pearlthat', 1484), ('shared', 1485), ('sincere', 1486), ('understood', 1487), ('laugh', 1488), ('perfectly', 1489), ('separated', 1490), ('closer', 1491), ('hills', 1492), ('find…she’s', 1493), ('thinking', 1494), ('senseless', 1495), ('herself', 1496), ('recollections', 1497), ('papa', 1498), ('mama', 1499), ('grandmother', 1500), ('rhena', 1501), ('lioness', 1502), ('uncle', 1503), ('crach', 1504), ('craite', 1505), ('someone', 1506), ('else', 1507), ('returning…i’m', 1508), ('dwimmermorcin', 1509), ('minute', 1510), ('clever', 1511), ('she’ll', 1512), ('dryly', 1513), ('draw', 1514), ('attention', 1515), ('grammar', 1516), ('using', 1517), ('tense', 1518), ('parody', 1519), ('tone', 1520), ('voice', 1521), ('pretend', 1522), ('unfeeling', 1523), ('feelings', 1524), ('emotions', 1525), ('melitele’s', 1526), ('part', 1527), ('meet', 1528), ('miss', 1529), ('that…i’ll', 1530), ('andrzej', 1531), ('sapkowskiyou', 1532), ('grow', 1533), ('sorcerer', 1534)])"
            ]
          },
          "metadata": {
            "tags": []
          },
          "execution_count": 78
        }
      ]
    },
    {
      "cell_type": "code",
      "metadata": {
        "id": "VpjzshdrLCFz",
        "outputId": "5132d3ef-6266-4721-e168-c264eddbf266",
        "colab": {
          "base_uri": "https://localhost:8080/",
          "height": 136
        }
      },
      "source": [
        "ys"
      ],
      "execution_count": null,
      "outputs": [
        {
          "output_type": "execute_result",
          "data": {
            "text/plain": [
              "array([[0., 0., 0., ..., 0., 0., 0.],\n",
              "       [0., 0., 0., ..., 0., 0., 0.],\n",
              "       [0., 0., 1., ..., 0., 0., 0.],\n",
              "       ...,\n",
              "       [0., 0., 0., ..., 0., 0., 0.],\n",
              "       [0., 1., 0., ..., 0., 0., 0.],\n",
              "       [0., 0., 0., ..., 0., 0., 0.]], dtype=float32)"
            ]
          },
          "metadata": {
            "tags": []
          },
          "execution_count": 73
        }
      ]
    },
    {
      "cell_type": "code",
      "metadata": {
        "id": "fh4iFBryLQE-",
        "outputId": "67e0a11b-b1b1-43b6-a74b-2de3844aa8b3",
        "colab": {
          "base_uri": "https://localhost:8080/",
          "height": 52
        }
      },
      "source": [
        "seed_text"
      ],
      "execution_count": null,
      "outputs": [
        {
          "output_type": "execute_result",
          "data": {
            "application/vnd.google.colaboratory.intrinsic+json": {
              "type": "string"
            },
            "text/plain": [
              "'I say unto you was that not have to them by so why you you that you that you have a you a at the as if i were the for if they were as going to you about come and you you that you i’m with me it is you have a you'"
            ]
          },
          "metadata": {
            "tags": []
          },
          "execution_count": 98
        }
      ]
    },
    {
      "cell_type": "code",
      "metadata": {
        "id": "u-U-0PxIMwuw"
      },
      "source": [
        ""
      ],
      "execution_count": null,
      "outputs": []
    }
  ]
}